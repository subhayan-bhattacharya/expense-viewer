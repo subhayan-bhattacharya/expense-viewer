{
 "cells": [
  {
   "cell_type": "code",
   "execution_count": null,
   "metadata": {},
   "outputs": [],
   "source": [
    "# Load the expense data from a specified folder in the same directory\n",
    "\n",
    "import pathlib\n",
    "\n",
    "from expense_viewer.main import load_details_from_all_expense_stmts\n",
    "\n",
    "expense_statements = pathlib.Path(\"./Transactions\").glob(\"*.csv\")\n",
    "\n",
    "data = load_details_from_all_expense_stmts(expense_statements)\n",
    "\n",
    "data"
   ]
  },
  {
   "cell_type": "code",
   "execution_count": null,
   "metadata": {},
   "outputs": [],
   "source": []
  }
 ],
 "metadata": {
  "kernelspec": {
   "display_name": "expense_viewer",
   "language": "python",
   "name": "expense_viewer"
  },
  "language_info": {
   "codemirror_mode": {
    "name": "ipython",
    "version": 3
   },
   "file_extension": ".py",
   "mimetype": "text/x-python",
   "name": "python",
   "nbconvert_exporter": "python",
   "pygments_lexer": "ipython3",
   "version": "3.7.7"
  }
 },
 "nbformat": 4,
 "nbformat_minor": 4
}
