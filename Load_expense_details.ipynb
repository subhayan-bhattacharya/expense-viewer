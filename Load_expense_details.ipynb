{
 "cells": [
  {
   "cell_type": "code",
   "execution_count": null,
   "metadata": {},
   "outputs": [],
   "source": [
    "# Sample code for Deustche bank expense statements\n",
    "\n",
    "import pathlib\n",
    "\n",
    "from expense_viewer import get_expense_report\n",
    "\n",
    "salary_statement_path = pathlib.Path(\"./Transactions\")\n",
    "\n",
    "config_file = pathlib.Path(\"./expense_config.yaml\")\n",
    "\n",
    "report = get_expense_report(config_file_path=config_file, salary_statement_path=salary_statement_path, statement_bank=\"Deutsche Bank\")\n",
    "\n",
    "child_expenses = report.child_expenses\n",
    "\n",
    "report.get_expenses_report()"
   ]
  },
  {
   "cell_type": "code",
   "execution_count": null,
   "metadata": {},
   "outputs": [],
   "source": [
    "september = child_expenses[\"September-2021\"]\n",
    "september.expense"
   ]
  },
  {
   "cell_type": "code",
   "execution_count": null,
   "metadata": {},
   "outputs": [],
   "source": []
  }
 ],
 "metadata": {
  "kernelspec": {
   "display_name": "expense_viewer",
   "language": "python",
   "name": "expense_viewer"
  },
  "language_info": {
   "codemirror_mode": {
    "name": "ipython",
    "version": 3
   },
   "file_extension": ".py",
   "mimetype": "text/x-python",
   "name": "python",
   "nbconvert_exporter": "python",
   "pygments_lexer": "ipython3",
   "version": "3.9.7"
  }
 },
 "nbformat": 4,
 "nbformat_minor": 4
}
