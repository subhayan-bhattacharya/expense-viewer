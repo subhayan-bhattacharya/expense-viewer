{
 "cells": [
  {
   "cell_type": "code",
   "execution_count": 3,
   "metadata": {},
   "outputs": [
    {
     "name": "stdout",
     "output_type": "stream",
     "text": [
      "Nothing matches\n"
     ]
    }
   ],
   "source": [
    "names = set([\"Subhayan\", \"Shaayan\", \"Rohan\", \"Rahul\", \"Dimpu\", \"Poulomi\"])\n",
    "new_names = set([\"Rakesh\"])\n",
    "check = new_names.intersection(names)\n",
    "if check:\n",
    "    print(f\"{check} names match\")\n",
    "else:\n",
    "    print(\"Nothing matches\")"
   ]
  },
  {
   "cell_type": "code",
   "execution_count": null,
   "metadata": {},
   "outputs": [],
   "source": []
  }
 ],
 "metadata": {
  "kernelspec": {
   "display_name": "expense-viewer",
   "language": "python",
   "name": "expense-viewer"
  },
  "language_info": {
   "codemirror_mode": {
    "name": "ipython",
    "version": 3
   },
   "file_extension": ".py",
   "mimetype": "text/x-python",
   "name": "python",
   "nbconvert_exporter": "python",
   "pygments_lexer": "ipython3",
   "version": "3.7.7"
  }
 },
 "nbformat": 4,
 "nbformat_minor": 4
}
