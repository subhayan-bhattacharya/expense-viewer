{
 "cells": [
  {
   "cell_type": "code",
   "execution_count": 1,
   "metadata": {},
   "outputs": [],
   "source": [
    "from expense_viewer import *"
   ]
  },
  {
   "cell_type": "code",
   "execution_count": 2,
   "metadata": {},
   "outputs": [
    {
     "data": {
      "text/plain": [
       "{'__name__': '__main__',\n",
       " '__doc__': 'Automatically created module for IPython interactive environment',\n",
       " '__package__': None,\n",
       " '__loader__': None,\n",
       " '__spec__': None,\n",
       " '__builtin__': <module 'builtins' (built-in)>,\n",
       " '__builtins__': <module 'builtins' (built-in)>,\n",
       " '_ih': ['', 'from expense_viewer import *', 'locals()'],\n",
       " '_oh': {},\n",
       " '_dh': ['/Users/subhayanbhattacharya/Desktop/HobbyProjects/expense_viewer'],\n",
       " 'In': ['', 'from expense_viewer import *', 'locals()'],\n",
       " 'Out': {},\n",
       " 'get_ipython': <bound method InteractiveShell.get_ipython of <ipykernel.zmqshell.ZMQInteractiveShell object at 0x7fe7d6d4d210>>,\n",
       " 'exit': <IPython.core.autocall.ZMQExitAutocall at 0x7fe7d6d96790>,\n",
       " 'quit': <IPython.core.autocall.ZMQExitAutocall at 0x7fe7d6d96790>,\n",
       " '_': '',\n",
       " '__': '',\n",
       " '___': '',\n",
       " '_i': 'from expense_viewer import *',\n",
       " '_ii': '',\n",
       " '_iii': '',\n",
       " '_i1': 'from expense_viewer import *',\n",
       " 'get_expense_report': <function expense_viewer.main.get_expense_report(config_file_path: str, salary_statement_path: str) -> None>,\n",
       " '_i2': 'locals()'}"
      ]
     },
     "execution_count": 2,
     "metadata": {},
     "output_type": "execute_result"
    }
   ],
   "source": [
    "locals()"
   ]
  },
  {
   "cell_type": "code",
   "execution_count": 3,
   "metadata": {},
   "outputs": [
    {
     "name": "stdout",
     "output_type": "stream",
     "text": [
      "Error: Could not read yaml file..somefile.yaml\n"
     ]
    }
   ],
   "source": [
    "get_expense_report(\"somefile.yaml\", \"some-report\")"
   ]
  },
  {
   "cell_type": "code",
   "execution_count": null,
   "metadata": {},
   "outputs": [],
   "source": []
  }
 ],
 "metadata": {
  "kernelspec": {
   "display_name": "expense_viewer",
   "language": "python",
   "name": "expense_viewer"
  },
  "language_info": {
   "codemirror_mode": {
    "name": "ipython",
    "version": 3
   },
   "file_extension": ".py",
   "mimetype": "text/x-python",
   "name": "python",
   "nbconvert_exporter": "python",
   "pygments_lexer": "ipython3",
   "version": "3.7.7"
  }
 },
 "nbformat": 4,
 "nbformat_minor": 4
}
