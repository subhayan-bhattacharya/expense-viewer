{
 "cells": [
  {
   "cell_type": "code",
   "execution_count": 18,
   "metadata": {},
   "outputs": [],
   "source": [
    "from expense_viewer import *"
   ]
  },
  {
   "cell_type": "code",
   "execution_count": 19,
   "metadata": {
    "collapsed": true,
    "jupyter": {
     "outputs_hidden": true
    }
   },
   "outputs": [
    {
     "data": {
      "text/plain": [
       "{'__name__': '__main__',\n",
       " '__doc__': 'Automatically created module for IPython interactive environment',\n",
       " '__package__': None,\n",
       " '__loader__': None,\n",
       " '__spec__': None,\n",
       " '__builtin__': <module 'builtins' (built-in)>,\n",
       " '__builtins__': <module 'builtins' (built-in)>,\n",
       " '_ih': ['',\n",
       "  'import csv\\n\\nmy_dummy_csv_data = [\\n        [1],\\n        [2],\\n        [3],\\n        [4],\\n        [\"Transaction Type\", \"Payment Details\", \"Debit\", \"Credit\"],\\n        [\"T\", \"Some description\", \"100\", \"0\"],\\n        [\"F\", \"Some description2\", \"150\", \"20\"],\\n        [\"G\", \"Some description3\", \"200\", 0],\\n    ]\\n\\n# csv_file = \"test2.csv\"\\n# with open(csv_file, \\'w\\') as csv_file:\\n#     writer = csv.writer(csv_file, delimiter=\";\")\\n#     for row in my_dummy_csv_data:\\n#         writer.writerow(row)\\n\\npd.DataFrame(my_dummy_csv_data)',\n",
       "  'import pandas as pd\\nimport csv\\n\\nmy_dummy_csv_data = [\\n        [1],\\n        [2],\\n        [3],\\n        [4],\\n        [\"Transaction Type\", \"Payment Details\", \"Debit\", \"Credit\"],\\n        [\"T\", \"Some description\", \"100\", \"0\"],\\n        [\"F\", \"Some description2\", \"150\", \"20\"],\\n        [\"G\", \"Some description3\", \"200\", 0],\\n    ]\\n\\n# csv_file = \"test2.csv\"\\n# with open(csv_file, \\'w\\') as csv_file:\\n#     writer = csv.writer(csv_file, delimiter=\";\")\\n#     for row in my_dummy_csv_data:\\n#         writer.writerow(row)\\n\\npd.DataFrame(my_dummy_csv_data)',\n",
       "  'import pandas as pd\\nimport csv\\n\\n\\ncolumns_to_use = [\"Transaction Type\", \"Payment Details\", \"Debit\", \"Credit\"]\\n\\nmy_dummy_csv_data = [\\n        [1],\\n        [2],\\n        [3],\\n        [4],\\n        [\"Transaction Type\", \"Payment Details\", \"Debit\", \"Credit\"],\\n        [\"T\", \"Some description\", \"100\", \"0\"],\\n        [\"F\", \"Some description2\", \"150\", \"20\"],\\n        [\"G\", \"Some description3\", \"200\", 0],\\n    ]\\n\\ncsv_file = \"test2.csv\"\\nwith open(csv_file, \\'w\\') as csv_file:\\n    writer = csv.writer(csv_file, delimiter=\";\")\\n    for row in my_dummy_csv_data:\\n        writer.writerow(row)\\n\\npd.read_csv(\"test2.csv\")',\n",
       "  'import pandas as pd\\nimport csv\\n\\n\\ncolumns_to_use = [\"Transaction Type\", \"Payment Details\", \"Debit\", \"Credit\"]\\n\\nmy_dummy_csv_data = [\\n        [1],\\n        [2],\\n        [3],\\n        [4],\\n        [\"Transaction Type\", \"Payment Details\", \"Debit\", \"Credit\"],\\n        [\"T\", \"Some description\", \"100\", \"0\"],\\n        [\"F\", \"Some description2\", \"150\", \"20\"],\\n        [\"G\", \"Some description3\", \"200\", 0],\\n    ]\\n\\ncsv_file = \"test2.csv\"\\nwith open(csv_file, \\'w\\') as csv_file:\\n    writer = csv.writer(csv_file, delimiter=\";\")\\n    for row in my_dummy_csv_data:\\n        writer.writerow(row)\\n\\ncolumns_to_use = [\"Transaction Type\", \"Payment Details\", \"Debit\", \"Credit\"]\\n\\nif csv_file.is_file():\\n    transactions = pd.read_csv(\\n        csv_file,\\n        encoding=\"latin\",\\n        error_bad_lines=False,\\n        skiprows=4,\\n        delimiter=\\';\\',\\n        usecols=columns_to_use\\n    )\\nelse:\\n    print(f\"Could not read file : {csv_file}\")\\n    \\ntransactions.drop(transactions.tail(1).index,inplace=True)  # Attempt to drop the last row as it is not needed\\ntransactions',\n",
       "  'import pandas as pd\\nimport csv\\n\\n\\ncolumns_to_use = [\"Transaction Type\", \"Payment Details\", \"Debit\", \"Credit\"]\\n\\nmy_dummy_csv_data = [\\n        [1],\\n        [2],\\n        [3],\\n        [4],\\n        [\"Transaction Type\", \"Payment Details\", \"Debit\", \"Credit\"],\\n        [\"T\", \"Some description\", \"100\", \"0\"],\\n        [\"F\", \"Some description2\", \"150\", \"20\"],\\n        [\"G\", \"Some description3\", \"200\", 0],\\n    ]\\n\\ncsv_file = \"test2.csv\"\\nwith open(csv_file, \\'w\\') as csv_file:\\n    writer = csv.writer(csv_file, delimiter=\";\")\\n    for row in my_dummy_csv_data:\\n        writer.writerow(row)\\n\\ncolumns_to_use = [\"Transaction Type\", \"Payment Details\", \"Debit\", \"Credit\"]\\n\\n\\ntransactions = pd.read_csv(\\n    csv_file,\\n    encoding=\"latin\",\\n    error_bad_lines=False,\\n    skiprows=4,\\n    delimiter=\\';\\',\\n    usecols=columns_to_use\\n)\\n\\n    \\ntransactions.drop(transactions.tail(1).index,inplace=True)  # Attempt to drop the last row as it is not needed\\ntransactions',\n",
       "  'import pandas as pd\\nimpprt pathlib\\nimport csv\\n\\n\\ncolumns_to_use = [\"Transaction Type\", \"Payment Details\", \"Debit\", \"Credit\"]\\n\\nmy_dummy_csv_data = [\\n        [1],\\n        [2],\\n        [3],\\n        [4],\\n        [\"Transaction Type\", \"Payment Details\", \"Debit\", \"Credit\"],\\n        [\"T\", \"Some description\", \"100\", \"0\"],\\n        [\"F\", \"Some description2\", \"150\", \"20\"],\\n        [\"G\", \"Some description3\", \"200\", 0],\\n    ]\\n\\ncsv_file = pathlib.Path(\"test2.csv\")\\nwith open(csv_file, \\'w\\') as csv_file:\\n    writer = csv.writer(csv_file, delimiter=\";\")\\n    for row in my_dummy_csv_data:\\n        writer.writerow(row)\\n\\ncolumns_to_use = [\"Transaction Type\", \"Payment Details\", \"Debit\", \"Credit\"]\\n\\n\\ntransactions = pd.read_csv(\\n    csv_file,\\n    encoding=\"latin\",\\n    error_bad_lines=False,\\n    skiprows=4,\\n    delimiter=\\';\\',\\n    usecols=columns_to_use\\n)\\n\\n    \\ntransactions.drop(transactions.tail(1).index,inplace=True)  # Attempt to drop the last row as it is not needed\\ntransactions',\n",
       "  'import pandas as pd\\nimport pathlib\\nimport csv\\n\\n\\ncolumns_to_use = [\"Transaction Type\", \"Payment Details\", \"Debit\", \"Credit\"]\\n\\nmy_dummy_csv_data = [\\n        [1],\\n        [2],\\n        [3],\\n        [4],\\n        [\"Transaction Type\", \"Payment Details\", \"Debit\", \"Credit\"],\\n        [\"T\", \"Some description\", \"100\", \"0\"],\\n        [\"F\", \"Some description2\", \"150\", \"20\"],\\n        [\"G\", \"Some description3\", \"200\", 0],\\n    ]\\n\\ncsv_file = pathlib.Path(\"test2.csv\")\\nwith open(csv_file, \\'w\\') as csv_file:\\n    writer = csv.writer(csv_file, delimiter=\";\")\\n    for row in my_dummy_csv_data:\\n        writer.writerow(row)\\n\\ncolumns_to_use = [\"Transaction Type\", \"Payment Details\", \"Debit\", \"Credit\"]\\n\\n\\ntransactions = pd.read_csv(\\n    csv_file,\\n    encoding=\"latin\",\\n    error_bad_lines=False,\\n    skiprows=4,\\n    delimiter=\\';\\',\\n    usecols=columns_to_use\\n)\\n\\n    \\ntransactions.drop(transactions.tail(1).index,inplace=True)  # Attempt to drop the last row as it is not needed\\ntransactions',\n",
       "  'import pandas as pd\\nimport pathlib\\nimport csv\\n\\n\\ncolumns_to_use = [\"Transaction Type\", \"Payment Details\", \"Debit\", \"Credit\"]\\n\\nmy_dummy_csv_data = [\\n        [1],\\n        [2],\\n        [3],\\n        [4],\\n        [\"Transaction Type\", \"Payment Details\", \"Debit\", \"Credit\"],\\n        [\"T\", \"Some description\", \"100\", \"0\"],\\n        [\"F\", \"Some description2\", \"150\", \"20\"],\\n        [\"G\", \"Some description3\", \"200\", 0],\\n    ]\\n\\ncsv_file = pathlib.Path(\"test2.csv\")\\nwith open(csv_file, \\'w\\') as csv_file:\\n    writer = csv.writer(csv_file, delimiter=\";\")\\n    for row in my_dummy_csv_data:\\n        writer.writerow(row)',\n",
       "  'import pandas as pd\\nimport pathlib\\n\\ncsv_file = pathlib.Path(\"test2.csv\")\\n\\ncolumns_to_use = [\"Transaction Type\", \"Payment Details\", \"Debit\", \"Credit\"]\\n\\n\\ntransactions = pd.read_csv(\\n    csv_file,\\n    encoding=\"latin\",\\n    error_bad_lines=False,\\n    skiprows=4,\\n    delimiter=\\';\\',\\n    usecols=columns_to_use\\n)\\n\\n    \\ntransactions.drop(transactions.tail(1).index,inplace=True)  # Attempt to drop the last row as it is not needed\\ntransactions',\n",
       "  'import pandas as pd\\nimport pathlib\\n\\ncsv_file = pathlib.Path(\"test2.csv\")\\n\\ncolumns_to_use = [\"Transaction Type\", \"Payment Details\", \"Debit\", \"Credit\"]\\n\\n\\ntransactions = pd.read_csv(\\n    csv_file,\\n    encoding=\"latin\",\\n    error_bad_lines=False,\\n    skiprows=4,\\n    delimiter=\\';\\',\\n    usecols=columns_to_use\\n)\\n\\n    \\ntransactions.drop(transactions.tail(1).index,inplace=True)  # Attempt to drop the last row as it is not needed\\ntransactions.info()',\n",
       "  'import pandas as pd\\nimport pathlib\\nimport csv\\n\\n\\ncolumns_to_use = [\"Transaction Type\", \"Payment Details\", \"Debit\", \"Credit\"]\\n\\nmy_dummy_csv_data = [\\n        [1],\\n        [2],\\n        [3],\\n        [4],\\n        [\"Transaction Type\", \"Payment Details\", \"Debit\", \"Credit\"],\\n        [\"T\", \"Some description\", \"100\", \"0\"],\\n        [\"F\", \"Some description2\", \"150\"],\\n        [\"G\", \"Some description3\", \"200\", 0],\\n    ]\\n\\ncsv_file = pathlib.Path(\"test2.csv\")\\nwith open(csv_file, \\'w\\') as csv_file:\\n    writer = csv.writer(csv_file, delimiter=\";\")\\n    for row in my_dummy_csv_data:\\n        writer.writerow(row)',\n",
       "  'import pandas as pd\\nimport pathlib\\n\\ncsv_file = pathlib.Path(\"test2.csv\")\\n\\ncolumns_to_use = [\"Transaction Type\", \"Payment Details\", \"Debit\", \"Credit\"]\\n\\n\\ntransactions = pd.read_csv(\\n    csv_file,\\n    encoding=\"latin\",\\n    error_bad_lines=False,\\n    skiprows=4,\\n    delimiter=\\';\\',\\n    usecols=columns_to_use\\n)\\n\\n    \\ntransactions.drop(transactions.tail(1).index,inplace=True)  # Attempt to drop the last row as it is not needed\\ntransactions.info()',\n",
       "  'import pandas as pd\\nimport pathlib\\n\\ncsv_file = pathlib.Path(\"test2.csv\")\\n\\ncolumns_to_use = [\"Transaction Type\", \"Payment Details\", \"Debit\", \"Credit\"]\\n\\n\\ntransactions = pd.read_csv(\\n    csv_file,\\n    encoding=\"latin\",\\n    error_bad_lines=False,\\n    skiprows=4,\\n    delimiter=\\';\\',\\n    usecols=columns_to_use\\n)\\n\\n    \\ntransactions.drop(transactions.tail(1).index,inplace=True)  # Attempt to drop the last row as it is not needed\\ntransactions.info()\\ntransactions',\n",
       "  'import pandas as pd\\nimport pathlib\\nimport csv\\n\\n\\ncolumns_to_use = [\"Transaction Type\", \"Payment Details\", \"Debit\", \"Credit\"]\\n\\nmy_dummy_csv_data = [\\n        [1],\\n        [2],\\n        [3],\\n        [4],\\n        [\"Transaction Type\", \"Payment Details\", \"Debit\", \"Credit\"],\\n        [\"T\", \"Some description\", \"100\", \"3,300\"],\\n        [\"F\", \"Some description2\", \"150\"],\\n        [\"G\", \"Some description3\", \"200\", \"2,500.89\"],\\n    ]\\n\\ncsv_file = pathlib.Path(\"test2.csv\")\\nwith open(csv_file, \\'w\\') as csv_file:\\n    writer = csv.writer(csv_file, delimiter=\";\")\\n    for row in my_dummy_csv_data:\\n        writer.writerow(row)',\n",
       "  'import pandas as pd\\nimport pathlib\\n\\ncsv_file = pathlib.Path(\"test2.csv\")\\n\\ncolumns_to_use = [\"Transaction Type\", \"Payment Details\", \"Debit\", \"Credit\"]\\n\\n\\ntransactions = pd.read_csv(\\n    csv_file,\\n    encoding=\"latin\",\\n    error_bad_lines=False,\\n    skiprows=4,\\n    delimiter=\\';\\',\\n    usecols=columns_to_use\\n)\\n\\n    \\ntransactions.drop(transactions.tail(1).index,inplace=True)  # Attempt to drop the last row as it is not needed\\ntransactions.info()\\ntransactions',\n",
       "  'import pandas as pd\\nimport pathlib\\nimport csv\\n\\n\\ncolumns_to_use = [\"Transaction Type\", \"Payment Details\", \"Debit\", \"Credit\"]\\n\\nmy_dummy_csv_data = [\\n        [1],\\n        [2],\\n        [3],\\n        [4],\\n        [\"Transaction Type\", \"Payment Details\", \"Debit\", \"Credit\"],\\n        [\"T\", \"Some description\", \"100.00\", \"3,300\"],\\n        [\"F\", \"Some description2\", \"150.20\"],\\n        [\"G\", \"Some description3\", \"200\", \"2,500.89\"],\\n    ]\\n\\ncsv_file = pathlib.Path(\"test2.csv\")\\nwith open(csv_file, \\'w\\') as csv_file:\\n    writer = csv.writer(csv_file, delimiter=\";\")\\n    for row in my_dummy_csv_data:\\n        writer.writerow(row)',\n",
       "  'import pandas as pd\\nimport pathlib\\n\\ncsv_file = pathlib.Path(\"test2.csv\")\\n\\ncolumns_to_use = [\"Transaction Type\", \"Payment Details\", \"Debit\", \"Credit\"]\\n\\n\\ntransactions = pd.read_csv(\\n    csv_file,\\n    encoding=\"latin\",\\n    error_bad_lines=False,\\n    skiprows=4,\\n    delimiter=\\';\\',\\n    usecols=columns_to_use\\n)\\n\\n    \\ntransactions.drop(transactions.tail(1).index,inplace=True)  # Attempt to drop the last row as it is not needed\\ntransactions.info()\\ntransactions',\n",
       "  'from expense_viewer import *',\n",
       "  'locals()'],\n",
       " '_oh': {2:                   0                  1      2       3\n",
       "  0                 1               None   None    None\n",
       "  1                 2               None   None    None\n",
       "  2                 3               None   None    None\n",
       "  3                 4               None   None    None\n",
       "  4  Transaction Type    Payment Details  Debit  Credit\n",
       "  5                 T   Some description    100       0\n",
       "  6                 F  Some description2    150      20\n",
       "  7                 G  Some description3    200       0,\n",
       "  3:                                                1\n",
       "  0                                              2\n",
       "  1                                              3\n",
       "  2                                              4\n",
       "  3  Transaction Type;Payment Details;Debit;Credit\n",
       "  4                       T;Some description;100;0\n",
       "  5                     F;Some description2;150;20\n",
       "  6                      G;Some description3;200;0,\n",
       "  9:   Transaction Type    Payment Details  Debit  Credit\n",
       "  0                T   Some description    100       0\n",
       "  1                F  Some description2    150      20,\n",
       "  13:   Transaction Type    Payment Details  Debit  Credit\n",
       "  0                T   Some description    100     0.0\n",
       "  1                F  Some description2    150     NaN,\n",
       "  15:   Transaction Type    Payment Details  Debit Credit\n",
       "  0                T   Some description    100  3,300\n",
       "  1                F  Some description2    150    NaN,\n",
       "  17:   Transaction Type    Payment Details  Debit Credit\n",
       "  0                T   Some description  100.0  3,300\n",
       "  1                F  Some description2  150.2    NaN},\n",
       " '_dh': ['/Users/subhayanbhattacharya/Desktop/HobbyProjects/expense_viewer'],\n",
       " 'In': ['',\n",
       "  'import csv\\n\\nmy_dummy_csv_data = [\\n        [1],\\n        [2],\\n        [3],\\n        [4],\\n        [\"Transaction Type\", \"Payment Details\", \"Debit\", \"Credit\"],\\n        [\"T\", \"Some description\", \"100\", \"0\"],\\n        [\"F\", \"Some description2\", \"150\", \"20\"],\\n        [\"G\", \"Some description3\", \"200\", 0],\\n    ]\\n\\n# csv_file = \"test2.csv\"\\n# with open(csv_file, \\'w\\') as csv_file:\\n#     writer = csv.writer(csv_file, delimiter=\";\")\\n#     for row in my_dummy_csv_data:\\n#         writer.writerow(row)\\n\\npd.DataFrame(my_dummy_csv_data)',\n",
       "  'import pandas as pd\\nimport csv\\n\\nmy_dummy_csv_data = [\\n        [1],\\n        [2],\\n        [3],\\n        [4],\\n        [\"Transaction Type\", \"Payment Details\", \"Debit\", \"Credit\"],\\n        [\"T\", \"Some description\", \"100\", \"0\"],\\n        [\"F\", \"Some description2\", \"150\", \"20\"],\\n        [\"G\", \"Some description3\", \"200\", 0],\\n    ]\\n\\n# csv_file = \"test2.csv\"\\n# with open(csv_file, \\'w\\') as csv_file:\\n#     writer = csv.writer(csv_file, delimiter=\";\")\\n#     for row in my_dummy_csv_data:\\n#         writer.writerow(row)\\n\\npd.DataFrame(my_dummy_csv_data)',\n",
       "  'import pandas as pd\\nimport csv\\n\\n\\ncolumns_to_use = [\"Transaction Type\", \"Payment Details\", \"Debit\", \"Credit\"]\\n\\nmy_dummy_csv_data = [\\n        [1],\\n        [2],\\n        [3],\\n        [4],\\n        [\"Transaction Type\", \"Payment Details\", \"Debit\", \"Credit\"],\\n        [\"T\", \"Some description\", \"100\", \"0\"],\\n        [\"F\", \"Some description2\", \"150\", \"20\"],\\n        [\"G\", \"Some description3\", \"200\", 0],\\n    ]\\n\\ncsv_file = \"test2.csv\"\\nwith open(csv_file, \\'w\\') as csv_file:\\n    writer = csv.writer(csv_file, delimiter=\";\")\\n    for row in my_dummy_csv_data:\\n        writer.writerow(row)\\n\\npd.read_csv(\"test2.csv\")',\n",
       "  'import pandas as pd\\nimport csv\\n\\n\\ncolumns_to_use = [\"Transaction Type\", \"Payment Details\", \"Debit\", \"Credit\"]\\n\\nmy_dummy_csv_data = [\\n        [1],\\n        [2],\\n        [3],\\n        [4],\\n        [\"Transaction Type\", \"Payment Details\", \"Debit\", \"Credit\"],\\n        [\"T\", \"Some description\", \"100\", \"0\"],\\n        [\"F\", \"Some description2\", \"150\", \"20\"],\\n        [\"G\", \"Some description3\", \"200\", 0],\\n    ]\\n\\ncsv_file = \"test2.csv\"\\nwith open(csv_file, \\'w\\') as csv_file:\\n    writer = csv.writer(csv_file, delimiter=\";\")\\n    for row in my_dummy_csv_data:\\n        writer.writerow(row)\\n\\ncolumns_to_use = [\"Transaction Type\", \"Payment Details\", \"Debit\", \"Credit\"]\\n\\nif csv_file.is_file():\\n    transactions = pd.read_csv(\\n        csv_file,\\n        encoding=\"latin\",\\n        error_bad_lines=False,\\n        skiprows=4,\\n        delimiter=\\';\\',\\n        usecols=columns_to_use\\n    )\\nelse:\\n    print(f\"Could not read file : {csv_file}\")\\n    \\ntransactions.drop(transactions.tail(1).index,inplace=True)  # Attempt to drop the last row as it is not needed\\ntransactions',\n",
       "  'import pandas as pd\\nimport csv\\n\\n\\ncolumns_to_use = [\"Transaction Type\", \"Payment Details\", \"Debit\", \"Credit\"]\\n\\nmy_dummy_csv_data = [\\n        [1],\\n        [2],\\n        [3],\\n        [4],\\n        [\"Transaction Type\", \"Payment Details\", \"Debit\", \"Credit\"],\\n        [\"T\", \"Some description\", \"100\", \"0\"],\\n        [\"F\", \"Some description2\", \"150\", \"20\"],\\n        [\"G\", \"Some description3\", \"200\", 0],\\n    ]\\n\\ncsv_file = \"test2.csv\"\\nwith open(csv_file, \\'w\\') as csv_file:\\n    writer = csv.writer(csv_file, delimiter=\";\")\\n    for row in my_dummy_csv_data:\\n        writer.writerow(row)\\n\\ncolumns_to_use = [\"Transaction Type\", \"Payment Details\", \"Debit\", \"Credit\"]\\n\\n\\ntransactions = pd.read_csv(\\n    csv_file,\\n    encoding=\"latin\",\\n    error_bad_lines=False,\\n    skiprows=4,\\n    delimiter=\\';\\',\\n    usecols=columns_to_use\\n)\\n\\n    \\ntransactions.drop(transactions.tail(1).index,inplace=True)  # Attempt to drop the last row as it is not needed\\ntransactions',\n",
       "  'import pandas as pd\\nimpprt pathlib\\nimport csv\\n\\n\\ncolumns_to_use = [\"Transaction Type\", \"Payment Details\", \"Debit\", \"Credit\"]\\n\\nmy_dummy_csv_data = [\\n        [1],\\n        [2],\\n        [3],\\n        [4],\\n        [\"Transaction Type\", \"Payment Details\", \"Debit\", \"Credit\"],\\n        [\"T\", \"Some description\", \"100\", \"0\"],\\n        [\"F\", \"Some description2\", \"150\", \"20\"],\\n        [\"G\", \"Some description3\", \"200\", 0],\\n    ]\\n\\ncsv_file = pathlib.Path(\"test2.csv\")\\nwith open(csv_file, \\'w\\') as csv_file:\\n    writer = csv.writer(csv_file, delimiter=\";\")\\n    for row in my_dummy_csv_data:\\n        writer.writerow(row)\\n\\ncolumns_to_use = [\"Transaction Type\", \"Payment Details\", \"Debit\", \"Credit\"]\\n\\n\\ntransactions = pd.read_csv(\\n    csv_file,\\n    encoding=\"latin\",\\n    error_bad_lines=False,\\n    skiprows=4,\\n    delimiter=\\';\\',\\n    usecols=columns_to_use\\n)\\n\\n    \\ntransactions.drop(transactions.tail(1).index,inplace=True)  # Attempt to drop the last row as it is not needed\\ntransactions',\n",
       "  'import pandas as pd\\nimport pathlib\\nimport csv\\n\\n\\ncolumns_to_use = [\"Transaction Type\", \"Payment Details\", \"Debit\", \"Credit\"]\\n\\nmy_dummy_csv_data = [\\n        [1],\\n        [2],\\n        [3],\\n        [4],\\n        [\"Transaction Type\", \"Payment Details\", \"Debit\", \"Credit\"],\\n        [\"T\", \"Some description\", \"100\", \"0\"],\\n        [\"F\", \"Some description2\", \"150\", \"20\"],\\n        [\"G\", \"Some description3\", \"200\", 0],\\n    ]\\n\\ncsv_file = pathlib.Path(\"test2.csv\")\\nwith open(csv_file, \\'w\\') as csv_file:\\n    writer = csv.writer(csv_file, delimiter=\";\")\\n    for row in my_dummy_csv_data:\\n        writer.writerow(row)\\n\\ncolumns_to_use = [\"Transaction Type\", \"Payment Details\", \"Debit\", \"Credit\"]\\n\\n\\ntransactions = pd.read_csv(\\n    csv_file,\\n    encoding=\"latin\",\\n    error_bad_lines=False,\\n    skiprows=4,\\n    delimiter=\\';\\',\\n    usecols=columns_to_use\\n)\\n\\n    \\ntransactions.drop(transactions.tail(1).index,inplace=True)  # Attempt to drop the last row as it is not needed\\ntransactions',\n",
       "  'import pandas as pd\\nimport pathlib\\nimport csv\\n\\n\\ncolumns_to_use = [\"Transaction Type\", \"Payment Details\", \"Debit\", \"Credit\"]\\n\\nmy_dummy_csv_data = [\\n        [1],\\n        [2],\\n        [3],\\n        [4],\\n        [\"Transaction Type\", \"Payment Details\", \"Debit\", \"Credit\"],\\n        [\"T\", \"Some description\", \"100\", \"0\"],\\n        [\"F\", \"Some description2\", \"150\", \"20\"],\\n        [\"G\", \"Some description3\", \"200\", 0],\\n    ]\\n\\ncsv_file = pathlib.Path(\"test2.csv\")\\nwith open(csv_file, \\'w\\') as csv_file:\\n    writer = csv.writer(csv_file, delimiter=\";\")\\n    for row in my_dummy_csv_data:\\n        writer.writerow(row)',\n",
       "  'import pandas as pd\\nimport pathlib\\n\\ncsv_file = pathlib.Path(\"test2.csv\")\\n\\ncolumns_to_use = [\"Transaction Type\", \"Payment Details\", \"Debit\", \"Credit\"]\\n\\n\\ntransactions = pd.read_csv(\\n    csv_file,\\n    encoding=\"latin\",\\n    error_bad_lines=False,\\n    skiprows=4,\\n    delimiter=\\';\\',\\n    usecols=columns_to_use\\n)\\n\\n    \\ntransactions.drop(transactions.tail(1).index,inplace=True)  # Attempt to drop the last row as it is not needed\\ntransactions',\n",
       "  'import pandas as pd\\nimport pathlib\\n\\ncsv_file = pathlib.Path(\"test2.csv\")\\n\\ncolumns_to_use = [\"Transaction Type\", \"Payment Details\", \"Debit\", \"Credit\"]\\n\\n\\ntransactions = pd.read_csv(\\n    csv_file,\\n    encoding=\"latin\",\\n    error_bad_lines=False,\\n    skiprows=4,\\n    delimiter=\\';\\',\\n    usecols=columns_to_use\\n)\\n\\n    \\ntransactions.drop(transactions.tail(1).index,inplace=True)  # Attempt to drop the last row as it is not needed\\ntransactions.info()',\n",
       "  'import pandas as pd\\nimport pathlib\\nimport csv\\n\\n\\ncolumns_to_use = [\"Transaction Type\", \"Payment Details\", \"Debit\", \"Credit\"]\\n\\nmy_dummy_csv_data = [\\n        [1],\\n        [2],\\n        [3],\\n        [4],\\n        [\"Transaction Type\", \"Payment Details\", \"Debit\", \"Credit\"],\\n        [\"T\", \"Some description\", \"100\", \"0\"],\\n        [\"F\", \"Some description2\", \"150\"],\\n        [\"G\", \"Some description3\", \"200\", 0],\\n    ]\\n\\ncsv_file = pathlib.Path(\"test2.csv\")\\nwith open(csv_file, \\'w\\') as csv_file:\\n    writer = csv.writer(csv_file, delimiter=\";\")\\n    for row in my_dummy_csv_data:\\n        writer.writerow(row)',\n",
       "  'import pandas as pd\\nimport pathlib\\n\\ncsv_file = pathlib.Path(\"test2.csv\")\\n\\ncolumns_to_use = [\"Transaction Type\", \"Payment Details\", \"Debit\", \"Credit\"]\\n\\n\\ntransactions = pd.read_csv(\\n    csv_file,\\n    encoding=\"latin\",\\n    error_bad_lines=False,\\n    skiprows=4,\\n    delimiter=\\';\\',\\n    usecols=columns_to_use\\n)\\n\\n    \\ntransactions.drop(transactions.tail(1).index,inplace=True)  # Attempt to drop the last row as it is not needed\\ntransactions.info()',\n",
       "  'import pandas as pd\\nimport pathlib\\n\\ncsv_file = pathlib.Path(\"test2.csv\")\\n\\ncolumns_to_use = [\"Transaction Type\", \"Payment Details\", \"Debit\", \"Credit\"]\\n\\n\\ntransactions = pd.read_csv(\\n    csv_file,\\n    encoding=\"latin\",\\n    error_bad_lines=False,\\n    skiprows=4,\\n    delimiter=\\';\\',\\n    usecols=columns_to_use\\n)\\n\\n    \\ntransactions.drop(transactions.tail(1).index,inplace=True)  # Attempt to drop the last row as it is not needed\\ntransactions.info()\\ntransactions',\n",
       "  'import pandas as pd\\nimport pathlib\\nimport csv\\n\\n\\ncolumns_to_use = [\"Transaction Type\", \"Payment Details\", \"Debit\", \"Credit\"]\\n\\nmy_dummy_csv_data = [\\n        [1],\\n        [2],\\n        [3],\\n        [4],\\n        [\"Transaction Type\", \"Payment Details\", \"Debit\", \"Credit\"],\\n        [\"T\", \"Some description\", \"100\", \"3,300\"],\\n        [\"F\", \"Some description2\", \"150\"],\\n        [\"G\", \"Some description3\", \"200\", \"2,500.89\"],\\n    ]\\n\\ncsv_file = pathlib.Path(\"test2.csv\")\\nwith open(csv_file, \\'w\\') as csv_file:\\n    writer = csv.writer(csv_file, delimiter=\";\")\\n    for row in my_dummy_csv_data:\\n        writer.writerow(row)',\n",
       "  'import pandas as pd\\nimport pathlib\\n\\ncsv_file = pathlib.Path(\"test2.csv\")\\n\\ncolumns_to_use = [\"Transaction Type\", \"Payment Details\", \"Debit\", \"Credit\"]\\n\\n\\ntransactions = pd.read_csv(\\n    csv_file,\\n    encoding=\"latin\",\\n    error_bad_lines=False,\\n    skiprows=4,\\n    delimiter=\\';\\',\\n    usecols=columns_to_use\\n)\\n\\n    \\ntransactions.drop(transactions.tail(1).index,inplace=True)  # Attempt to drop the last row as it is not needed\\ntransactions.info()\\ntransactions',\n",
       "  'import pandas as pd\\nimport pathlib\\nimport csv\\n\\n\\ncolumns_to_use = [\"Transaction Type\", \"Payment Details\", \"Debit\", \"Credit\"]\\n\\nmy_dummy_csv_data = [\\n        [1],\\n        [2],\\n        [3],\\n        [4],\\n        [\"Transaction Type\", \"Payment Details\", \"Debit\", \"Credit\"],\\n        [\"T\", \"Some description\", \"100.00\", \"3,300\"],\\n        [\"F\", \"Some description2\", \"150.20\"],\\n        [\"G\", \"Some description3\", \"200\", \"2,500.89\"],\\n    ]\\n\\ncsv_file = pathlib.Path(\"test2.csv\")\\nwith open(csv_file, \\'w\\') as csv_file:\\n    writer = csv.writer(csv_file, delimiter=\";\")\\n    for row in my_dummy_csv_data:\\n        writer.writerow(row)',\n",
       "  'import pandas as pd\\nimport pathlib\\n\\ncsv_file = pathlib.Path(\"test2.csv\")\\n\\ncolumns_to_use = [\"Transaction Type\", \"Payment Details\", \"Debit\", \"Credit\"]\\n\\n\\ntransactions = pd.read_csv(\\n    csv_file,\\n    encoding=\"latin\",\\n    error_bad_lines=False,\\n    skiprows=4,\\n    delimiter=\\';\\',\\n    usecols=columns_to_use\\n)\\n\\n    \\ntransactions.drop(transactions.tail(1).index,inplace=True)  # Attempt to drop the last row as it is not needed\\ntransactions.info()\\ntransactions',\n",
       "  'from expense_viewer import *',\n",
       "  'locals()'],\n",
       " 'Out': {2:                   0                  1      2       3\n",
       "  0                 1               None   None    None\n",
       "  1                 2               None   None    None\n",
       "  2                 3               None   None    None\n",
       "  3                 4               None   None    None\n",
       "  4  Transaction Type    Payment Details  Debit  Credit\n",
       "  5                 T   Some description    100       0\n",
       "  6                 F  Some description2    150      20\n",
       "  7                 G  Some description3    200       0,\n",
       "  3:                                                1\n",
       "  0                                              2\n",
       "  1                                              3\n",
       "  2                                              4\n",
       "  3  Transaction Type;Payment Details;Debit;Credit\n",
       "  4                       T;Some description;100;0\n",
       "  5                     F;Some description2;150;20\n",
       "  6                      G;Some description3;200;0,\n",
       "  9:   Transaction Type    Payment Details  Debit  Credit\n",
       "  0                T   Some description    100       0\n",
       "  1                F  Some description2    150      20,\n",
       "  13:   Transaction Type    Payment Details  Debit  Credit\n",
       "  0                T   Some description    100     0.0\n",
       "  1                F  Some description2    150     NaN,\n",
       "  15:   Transaction Type    Payment Details  Debit Credit\n",
       "  0                T   Some description    100  3,300\n",
       "  1                F  Some description2    150    NaN,\n",
       "  17:   Transaction Type    Payment Details  Debit Credit\n",
       "  0                T   Some description  100.0  3,300\n",
       "  1                F  Some description2  150.2    NaN},\n",
       " 'get_ipython': <bound method InteractiveShell.get_ipython of <ipykernel.zmqshell.ZMQInteractiveShell object at 0x7f9e76c69850>>,\n",
       " 'exit': <IPython.core.autocall.ZMQExitAutocall at 0x7f9e76cadc90>,\n",
       " 'quit': <IPython.core.autocall.ZMQExitAutocall at 0x7f9e76cadc90>,\n",
       " '_':   Transaction Type    Payment Details  Debit Credit\n",
       " 0                T   Some description  100.0  3,300\n",
       " 1                F  Some description2  150.2    NaN,\n",
       " '__':   Transaction Type    Payment Details  Debit Credit\n",
       " 0                T   Some description    100  3,300\n",
       " 1                F  Some description2    150    NaN,\n",
       " '___':   Transaction Type    Payment Details  Debit  Credit\n",
       " 0                T   Some description    100     0.0\n",
       " 1                F  Some description2    150     NaN,\n",
       " '_i': 'from expense_viewer import *',\n",
       " '_ii': 'import pandas as pd\\nimport pathlib\\n\\ncsv_file = pathlib.Path(\"test2.csv\")\\n\\ncolumns_to_use = [\"Transaction Type\", \"Payment Details\", \"Debit\", \"Credit\"]\\n\\n\\ntransactions = pd.read_csv(\\n    csv_file,\\n    encoding=\"latin\",\\n    error_bad_lines=False,\\n    skiprows=4,\\n    delimiter=\\';\\',\\n    usecols=columns_to_use\\n)\\n\\n    \\ntransactions.drop(transactions.tail(1).index,inplace=True)  # Attempt to drop the last row as it is not needed\\ntransactions.info()\\ntransactions',\n",
       " '_iii': 'import pandas as pd\\nimport pathlib\\nimport csv\\n\\n\\ncolumns_to_use = [\"Transaction Type\", \"Payment Details\", \"Debit\", \"Credit\"]\\n\\nmy_dummy_csv_data = [\\n        [1],\\n        [2],\\n        [3],\\n        [4],\\n        [\"Transaction Type\", \"Payment Details\", \"Debit\", \"Credit\"],\\n        [\"T\", \"Some description\", \"100.00\", \"3,300\"],\\n        [\"F\", \"Some description2\", \"150.20\"],\\n        [\"G\", \"Some description3\", \"200\", \"2,500.89\"],\\n    ]\\n\\ncsv_file = pathlib.Path(\"test2.csv\")\\nwith open(csv_file, \\'w\\') as csv_file:\\n    writer = csv.writer(csv_file, delimiter=\";\")\\n    for row in my_dummy_csv_data:\\n        writer.writerow(row)',\n",
       " '_i1': 'import csv\\n\\nmy_dummy_csv_data = [\\n        [1],\\n        [2],\\n        [3],\\n        [4],\\n        [\"Transaction Type\", \"Payment Details\", \"Debit\", \"Credit\"],\\n        [\"T\", \"Some description\", \"100\", \"0\"],\\n        [\"F\", \"Some description2\", \"150\", \"20\"],\\n        [\"G\", \"Some description3\", \"200\", 0],\\n    ]\\n\\n# csv_file = \"test2.csv\"\\n# with open(csv_file, \\'w\\') as csv_file:\\n#     writer = csv.writer(csv_file, delimiter=\";\")\\n#     for row in my_dummy_csv_data:\\n#         writer.writerow(row)\\n\\npd.DataFrame(my_dummy_csv_data)',\n",
       " 'csv': <module 'csv' from '/Users/subhayanbhattacharya/miniconda3/envs/expense-viewer/lib/python3.7/csv.py'>,\n",
       " 'my_dummy_csv_data': [[1],\n",
       "  [2],\n",
       "  [3],\n",
       "  [4],\n",
       "  ['Transaction Type', 'Payment Details', 'Debit', 'Credit'],\n",
       "  ['T', 'Some description', '100.00', '3,300'],\n",
       "  ['F', 'Some description2', '150.20'],\n",
       "  ['G', 'Some description3', '200', '2,500.89']],\n",
       " '_i2': 'import pandas as pd\\nimport csv\\n\\nmy_dummy_csv_data = [\\n        [1],\\n        [2],\\n        [3],\\n        [4],\\n        [\"Transaction Type\", \"Payment Details\", \"Debit\", \"Credit\"],\\n        [\"T\", \"Some description\", \"100\", \"0\"],\\n        [\"F\", \"Some description2\", \"150\", \"20\"],\\n        [\"G\", \"Some description3\", \"200\", 0],\\n    ]\\n\\n# csv_file = \"test2.csv\"\\n# with open(csv_file, \\'w\\') as csv_file:\\n#     writer = csv.writer(csv_file, delimiter=\";\")\\n#     for row in my_dummy_csv_data:\\n#         writer.writerow(row)\\n\\npd.DataFrame(my_dummy_csv_data)',\n",
       " 'pd': <module 'pandas' from '/Users/subhayanbhattacharya/miniconda3/envs/expense-viewer/lib/python3.7/site-packages/pandas/__init__.py'>,\n",
       " '_2':                   0                  1      2       3\n",
       " 0                 1               None   None    None\n",
       " 1                 2               None   None    None\n",
       " 2                 3               None   None    None\n",
       " 3                 4               None   None    None\n",
       " 4  Transaction Type    Payment Details  Debit  Credit\n",
       " 5                 T   Some description    100       0\n",
       " 6                 F  Some description2    150      20\n",
       " 7                 G  Some description3    200       0,\n",
       " '_i3': 'import pandas as pd\\nimport csv\\n\\n\\ncolumns_to_use = [\"Transaction Type\", \"Payment Details\", \"Debit\", \"Credit\"]\\n\\nmy_dummy_csv_data = [\\n        [1],\\n        [2],\\n        [3],\\n        [4],\\n        [\"Transaction Type\", \"Payment Details\", \"Debit\", \"Credit\"],\\n        [\"T\", \"Some description\", \"100\", \"0\"],\\n        [\"F\", \"Some description2\", \"150\", \"20\"],\\n        [\"G\", \"Some description3\", \"200\", 0],\\n    ]\\n\\ncsv_file = \"test2.csv\"\\nwith open(csv_file, \\'w\\') as csv_file:\\n    writer = csv.writer(csv_file, delimiter=\";\")\\n    for row in my_dummy_csv_data:\\n        writer.writerow(row)\\n\\npd.read_csv(\"test2.csv\")',\n",
       " 'columns_to_use': ['Transaction Type', 'Payment Details', 'Debit', 'Credit'],\n",
       " 'csv_file': PosixPath('test2.csv'),\n",
       " 'writer': <_csv.writer at 0x7f9e79b77230>,\n",
       " 'row': ['G', 'Some description3', '200', '2,500.89'],\n",
       " '_3':                                                1\n",
       " 0                                              2\n",
       " 1                                              3\n",
       " 2                                              4\n",
       " 3  Transaction Type;Payment Details;Debit;Credit\n",
       " 4                       T;Some description;100;0\n",
       " 5                     F;Some description2;150;20\n",
       " 6                      G;Some description3;200;0,\n",
       " '_i4': 'import pandas as pd\\nimport csv\\n\\n\\ncolumns_to_use = [\"Transaction Type\", \"Payment Details\", \"Debit\", \"Credit\"]\\n\\nmy_dummy_csv_data = [\\n        [1],\\n        [2],\\n        [3],\\n        [4],\\n        [\"Transaction Type\", \"Payment Details\", \"Debit\", \"Credit\"],\\n        [\"T\", \"Some description\", \"100\", \"0\"],\\n        [\"F\", \"Some description2\", \"150\", \"20\"],\\n        [\"G\", \"Some description3\", \"200\", 0],\\n    ]\\n\\ncsv_file = \"test2.csv\"\\nwith open(csv_file, \\'w\\') as csv_file:\\n    writer = csv.writer(csv_file, delimiter=\";\")\\n    for row in my_dummy_csv_data:\\n        writer.writerow(row)\\n\\ncolumns_to_use = [\"Transaction Type\", \"Payment Details\", \"Debit\", \"Credit\"]\\n\\nif csv_file.is_file():\\n    transactions = pd.read_csv(\\n        csv_file,\\n        encoding=\"latin\",\\n        error_bad_lines=False,\\n        skiprows=4,\\n        delimiter=\\';\\',\\n        usecols=columns_to_use\\n    )\\nelse:\\n    print(f\"Could not read file : {csv_file}\")\\n    \\ntransactions.drop(transactions.tail(1).index,inplace=True)  # Attempt to drop the last row as it is not needed\\ntransactions',\n",
       " '_i5': 'import pandas as pd\\nimport csv\\n\\n\\ncolumns_to_use = [\"Transaction Type\", \"Payment Details\", \"Debit\", \"Credit\"]\\n\\nmy_dummy_csv_data = [\\n        [1],\\n        [2],\\n        [3],\\n        [4],\\n        [\"Transaction Type\", \"Payment Details\", \"Debit\", \"Credit\"],\\n        [\"T\", \"Some description\", \"100\", \"0\"],\\n        [\"F\", \"Some description2\", \"150\", \"20\"],\\n        [\"G\", \"Some description3\", \"200\", 0],\\n    ]\\n\\ncsv_file = \"test2.csv\"\\nwith open(csv_file, \\'w\\') as csv_file:\\n    writer = csv.writer(csv_file, delimiter=\";\")\\n    for row in my_dummy_csv_data:\\n        writer.writerow(row)\\n\\ncolumns_to_use = [\"Transaction Type\", \"Payment Details\", \"Debit\", \"Credit\"]\\n\\n\\ntransactions = pd.read_csv(\\n    csv_file,\\n    encoding=\"latin\",\\n    error_bad_lines=False,\\n    skiprows=4,\\n    delimiter=\\';\\',\\n    usecols=columns_to_use\\n)\\n\\n    \\ntransactions.drop(transactions.tail(1).index,inplace=True)  # Attempt to drop the last row as it is not needed\\ntransactions',\n",
       " '_i6': 'import pandas as pd\\nimpprt pathlib\\nimport csv\\n\\n\\ncolumns_to_use = [\"Transaction Type\", \"Payment Details\", \"Debit\", \"Credit\"]\\n\\nmy_dummy_csv_data = [\\n        [1],\\n        [2],\\n        [3],\\n        [4],\\n        [\"Transaction Type\", \"Payment Details\", \"Debit\", \"Credit\"],\\n        [\"T\", \"Some description\", \"100\", \"0\"],\\n        [\"F\", \"Some description2\", \"150\", \"20\"],\\n        [\"G\", \"Some description3\", \"200\", 0],\\n    ]\\n\\ncsv_file = pathlib.Path(\"test2.csv\")\\nwith open(csv_file, \\'w\\') as csv_file:\\n    writer = csv.writer(csv_file, delimiter=\";\")\\n    for row in my_dummy_csv_data:\\n        writer.writerow(row)\\n\\ncolumns_to_use = [\"Transaction Type\", \"Payment Details\", \"Debit\", \"Credit\"]\\n\\n\\ntransactions = pd.read_csv(\\n    csv_file,\\n    encoding=\"latin\",\\n    error_bad_lines=False,\\n    skiprows=4,\\n    delimiter=\\';\\',\\n    usecols=columns_to_use\\n)\\n\\n    \\ntransactions.drop(transactions.tail(1).index,inplace=True)  # Attempt to drop the last row as it is not needed\\ntransactions',\n",
       " '_i7': 'import pandas as pd\\nimport pathlib\\nimport csv\\n\\n\\ncolumns_to_use = [\"Transaction Type\", \"Payment Details\", \"Debit\", \"Credit\"]\\n\\nmy_dummy_csv_data = [\\n        [1],\\n        [2],\\n        [3],\\n        [4],\\n        [\"Transaction Type\", \"Payment Details\", \"Debit\", \"Credit\"],\\n        [\"T\", \"Some description\", \"100\", \"0\"],\\n        [\"F\", \"Some description2\", \"150\", \"20\"],\\n        [\"G\", \"Some description3\", \"200\", 0],\\n    ]\\n\\ncsv_file = pathlib.Path(\"test2.csv\")\\nwith open(csv_file, \\'w\\') as csv_file:\\n    writer = csv.writer(csv_file, delimiter=\";\")\\n    for row in my_dummy_csv_data:\\n        writer.writerow(row)\\n\\ncolumns_to_use = [\"Transaction Type\", \"Payment Details\", \"Debit\", \"Credit\"]\\n\\n\\ntransactions = pd.read_csv(\\n    csv_file,\\n    encoding=\"latin\",\\n    error_bad_lines=False,\\n    skiprows=4,\\n    delimiter=\\';\\',\\n    usecols=columns_to_use\\n)\\n\\n    \\ntransactions.drop(transactions.tail(1).index,inplace=True)  # Attempt to drop the last row as it is not needed\\ntransactions',\n",
       " 'pathlib': <module 'pathlib' from '/Users/subhayanbhattacharya/miniconda3/envs/expense-viewer/lib/python3.7/pathlib.py'>,\n",
       " '_i8': 'import pandas as pd\\nimport pathlib\\nimport csv\\n\\n\\ncolumns_to_use = [\"Transaction Type\", \"Payment Details\", \"Debit\", \"Credit\"]\\n\\nmy_dummy_csv_data = [\\n        [1],\\n        [2],\\n        [3],\\n        [4],\\n        [\"Transaction Type\", \"Payment Details\", \"Debit\", \"Credit\"],\\n        [\"T\", \"Some description\", \"100\", \"0\"],\\n        [\"F\", \"Some description2\", \"150\", \"20\"],\\n        [\"G\", \"Some description3\", \"200\", 0],\\n    ]\\n\\ncsv_file = pathlib.Path(\"test2.csv\")\\nwith open(csv_file, \\'w\\') as csv_file:\\n    writer = csv.writer(csv_file, delimiter=\";\")\\n    for row in my_dummy_csv_data:\\n        writer.writerow(row)',\n",
       " '_i9': 'import pandas as pd\\nimport pathlib\\n\\ncsv_file = pathlib.Path(\"test2.csv\")\\n\\ncolumns_to_use = [\"Transaction Type\", \"Payment Details\", \"Debit\", \"Credit\"]\\n\\n\\ntransactions = pd.read_csv(\\n    csv_file,\\n    encoding=\"latin\",\\n    error_bad_lines=False,\\n    skiprows=4,\\n    delimiter=\\';\\',\\n    usecols=columns_to_use\\n)\\n\\n    \\ntransactions.drop(transactions.tail(1).index,inplace=True)  # Attempt to drop the last row as it is not needed\\ntransactions',\n",
       " 'transactions':   Transaction Type    Payment Details  Debit Credit\n",
       " 0                T   Some description  100.0  3,300\n",
       " 1                F  Some description2  150.2    NaN,\n",
       " '_9':   Transaction Type    Payment Details  Debit  Credit\n",
       " 0                T   Some description    100       0\n",
       " 1                F  Some description2    150      20,\n",
       " '_i10': 'import pandas as pd\\nimport pathlib\\n\\ncsv_file = pathlib.Path(\"test2.csv\")\\n\\ncolumns_to_use = [\"Transaction Type\", \"Payment Details\", \"Debit\", \"Credit\"]\\n\\n\\ntransactions = pd.read_csv(\\n    csv_file,\\n    encoding=\"latin\",\\n    error_bad_lines=False,\\n    skiprows=4,\\n    delimiter=\\';\\',\\n    usecols=columns_to_use\\n)\\n\\n    \\ntransactions.drop(transactions.tail(1).index,inplace=True)  # Attempt to drop the last row as it is not needed\\ntransactions.info()',\n",
       " '_i11': 'import pandas as pd\\nimport pathlib\\nimport csv\\n\\n\\ncolumns_to_use = [\"Transaction Type\", \"Payment Details\", \"Debit\", \"Credit\"]\\n\\nmy_dummy_csv_data = [\\n        [1],\\n        [2],\\n        [3],\\n        [4],\\n        [\"Transaction Type\", \"Payment Details\", \"Debit\", \"Credit\"],\\n        [\"T\", \"Some description\", \"100\", \"0\"],\\n        [\"F\", \"Some description2\", \"150\"],\\n        [\"G\", \"Some description3\", \"200\", 0],\\n    ]\\n\\ncsv_file = pathlib.Path(\"test2.csv\")\\nwith open(csv_file, \\'w\\') as csv_file:\\n    writer = csv.writer(csv_file, delimiter=\";\")\\n    for row in my_dummy_csv_data:\\n        writer.writerow(row)',\n",
       " '_i12': 'import pandas as pd\\nimport pathlib\\n\\ncsv_file = pathlib.Path(\"test2.csv\")\\n\\ncolumns_to_use = [\"Transaction Type\", \"Payment Details\", \"Debit\", \"Credit\"]\\n\\n\\ntransactions = pd.read_csv(\\n    csv_file,\\n    encoding=\"latin\",\\n    error_bad_lines=False,\\n    skiprows=4,\\n    delimiter=\\';\\',\\n    usecols=columns_to_use\\n)\\n\\n    \\ntransactions.drop(transactions.tail(1).index,inplace=True)  # Attempt to drop the last row as it is not needed\\ntransactions.info()',\n",
       " '_i13': 'import pandas as pd\\nimport pathlib\\n\\ncsv_file = pathlib.Path(\"test2.csv\")\\n\\ncolumns_to_use = [\"Transaction Type\", \"Payment Details\", \"Debit\", \"Credit\"]\\n\\n\\ntransactions = pd.read_csv(\\n    csv_file,\\n    encoding=\"latin\",\\n    error_bad_lines=False,\\n    skiprows=4,\\n    delimiter=\\';\\',\\n    usecols=columns_to_use\\n)\\n\\n    \\ntransactions.drop(transactions.tail(1).index,inplace=True)  # Attempt to drop the last row as it is not needed\\ntransactions.info()\\ntransactions',\n",
       " '_13':   Transaction Type    Payment Details  Debit  Credit\n",
       " 0                T   Some description    100     0.0\n",
       " 1                F  Some description2    150     NaN,\n",
       " '_i14': 'import pandas as pd\\nimport pathlib\\nimport csv\\n\\n\\ncolumns_to_use = [\"Transaction Type\", \"Payment Details\", \"Debit\", \"Credit\"]\\n\\nmy_dummy_csv_data = [\\n        [1],\\n        [2],\\n        [3],\\n        [4],\\n        [\"Transaction Type\", \"Payment Details\", \"Debit\", \"Credit\"],\\n        [\"T\", \"Some description\", \"100\", \"3,300\"],\\n        [\"F\", \"Some description2\", \"150\"],\\n        [\"G\", \"Some description3\", \"200\", \"2,500.89\"],\\n    ]\\n\\ncsv_file = pathlib.Path(\"test2.csv\")\\nwith open(csv_file, \\'w\\') as csv_file:\\n    writer = csv.writer(csv_file, delimiter=\";\")\\n    for row in my_dummy_csv_data:\\n        writer.writerow(row)',\n",
       " '_i15': 'import pandas as pd\\nimport pathlib\\n\\ncsv_file = pathlib.Path(\"test2.csv\")\\n\\ncolumns_to_use = [\"Transaction Type\", \"Payment Details\", \"Debit\", \"Credit\"]\\n\\n\\ntransactions = pd.read_csv(\\n    csv_file,\\n    encoding=\"latin\",\\n    error_bad_lines=False,\\n    skiprows=4,\\n    delimiter=\\';\\',\\n    usecols=columns_to_use\\n)\\n\\n    \\ntransactions.drop(transactions.tail(1).index,inplace=True)  # Attempt to drop the last row as it is not needed\\ntransactions.info()\\ntransactions',\n",
       " '_15':   Transaction Type    Payment Details  Debit Credit\n",
       " 0                T   Some description    100  3,300\n",
       " 1                F  Some description2    150    NaN,\n",
       " '_i16': 'import pandas as pd\\nimport pathlib\\nimport csv\\n\\n\\ncolumns_to_use = [\"Transaction Type\", \"Payment Details\", \"Debit\", \"Credit\"]\\n\\nmy_dummy_csv_data = [\\n        [1],\\n        [2],\\n        [3],\\n        [4],\\n        [\"Transaction Type\", \"Payment Details\", \"Debit\", \"Credit\"],\\n        [\"T\", \"Some description\", \"100.00\", \"3,300\"],\\n        [\"F\", \"Some description2\", \"150.20\"],\\n        [\"G\", \"Some description3\", \"200\", \"2,500.89\"],\\n    ]\\n\\ncsv_file = pathlib.Path(\"test2.csv\")\\nwith open(csv_file, \\'w\\') as csv_file:\\n    writer = csv.writer(csv_file, delimiter=\";\")\\n    for row in my_dummy_csv_data:\\n        writer.writerow(row)',\n",
       " '_i17': 'import pandas as pd\\nimport pathlib\\n\\ncsv_file = pathlib.Path(\"test2.csv\")\\n\\ncolumns_to_use = [\"Transaction Type\", \"Payment Details\", \"Debit\", \"Credit\"]\\n\\n\\ntransactions = pd.read_csv(\\n    csv_file,\\n    encoding=\"latin\",\\n    error_bad_lines=False,\\n    skiprows=4,\\n    delimiter=\\';\\',\\n    usecols=columns_to_use\\n)\\n\\n    \\ntransactions.drop(transactions.tail(1).index,inplace=True)  # Attempt to drop the last row as it is not needed\\ntransactions.info()\\ntransactions',\n",
       " '_17':   Transaction Type    Payment Details  Debit Credit\n",
       " 0                T   Some description  100.0  3,300\n",
       " 1                F  Some description2  150.2    NaN,\n",
       " '_i18': 'from expense_viewer import *',\n",
       " 'get_expense_report': <function expense_viewer.main.get_expense_report(config_file_path: str, salary_statement_path: str) -> None>,\n",
       " '_i19': 'locals()'}"
      ]
     },
     "execution_count": 19,
     "metadata": {},
     "output_type": "execute_result"
    }
   ],
   "source": [
    "locals()"
   ]
  },
  {
   "cell_type": "code",
   "execution_count": 2,
   "metadata": {},
   "outputs": [],
   "source": [
    "import pathlib"
   ]
  },
  {
   "cell_type": "code",
   "execution_count": 2,
   "metadata": {},
   "outputs": [
    {
     "name": "stdout",
     "output_type": "stream",
     "text": [
      "WrongFormatError: The file Transaction-May-June-2020.csv is not in right format\n"
     ]
    }
   ],
   "source": [
    "config = \"expense_config.yaml\"\n",
    "salary = \"Transaction-May-June-2020.csv\"\n",
    "get_expense_report(config, salary)"
   ]
  },
  {
   "cell_type": "code",
   "execution_count": 3,
   "metadata": {},
   "outputs": [
    {
     "data": {
      "text/plain": [
       "True"
      ]
     },
     "execution_count": 3,
     "metadata": {},
     "output_type": "execute_result"
    }
   ],
   "source": [
    "yaml_file = pathlib.Path(\"tests/test_data/yaml_test_file.yaml\")\n"
   ]
  },
  {
   "cell_type": "code",
   "execution_count": 5,
   "metadata": {},
   "outputs": [
    {
     "data": {
      "text/plain": [
       "'/Users/subhayanbhattacharya/miniconda3/envs/expense-viewer/bin/python'"
      ]
     },
     "execution_count": 5,
     "metadata": {},
     "output_type": "execute_result"
    }
   ],
   "source": [
    "import sys\n",
    "sys.executable"
   ]
  },
  {
   "cell_type": "code",
   "execution_count": 6,
   "metadata": {},
   "outputs": [],
   "source": [
    "import ruamel.yaml"
   ]
  },
  {
   "cell_type": "code",
   "execution_count": 7,
   "metadata": {},
   "outputs": [
    {
     "data": {
      "text/plain": [
       "['Casablanca', 'North by Northwest', \"The Man Who Wasn't There\"]"
      ]
     },
     "execution_count": 7,
     "metadata": {},
     "output_type": "execute_result"
    }
   ],
   "source": [
    "yaml = ruamel.yaml.YAML()\n",
    "with open(yaml_file, \"r\") as stream:\n",
    "    contents = yaml.load(stream)\n",
    "contents"
   ]
  },
  {
   "cell_type": "code",
   "execution_count": 1,
   "metadata": {},
   "outputs": [],
   "source": [
    "import pandas as pd"
   ]
  },
  {
   "cell_type": "code",
   "execution_count": 2,
   "metadata": {},
   "outputs": [
    {
     "data": {
      "text/html": [
       "<div>\n",
       "<style scoped>\n",
       "    .dataframe tbody tr th:only-of-type {\n",
       "        vertical-align: middle;\n",
       "    }\n",
       "\n",
       "    .dataframe tbody tr th {\n",
       "        vertical-align: top;\n",
       "    }\n",
       "\n",
       "    .dataframe thead th {\n",
       "        text-align: right;\n",
       "    }\n",
       "</style>\n",
       "<table border=\"1\" class=\"dataframe\">\n",
       "  <thead>\n",
       "    <tr style=\"text-align: right;\">\n",
       "      <th></th>\n",
       "      <th>foo_id</th>\n",
       "    </tr>\n",
       "  </thead>\n",
       "  <tbody>\n",
       "    <tr>\n",
       "      <th>0</th>\n",
       "      <td>1</td>\n",
       "    </tr>\n",
       "    <tr>\n",
       "      <th>1</th>\n",
       "      <td>2</td>\n",
       "    </tr>\n",
       "    <tr>\n",
       "      <th>2</th>\n",
       "      <td>3</td>\n",
       "    </tr>\n",
       "    <tr>\n",
       "      <th>3</th>\n",
       "      <td>4</td>\n",
       "    </tr>\n",
       "    <tr>\n",
       "      <th>4</th>\n",
       "      <td>5</td>\n",
       "    </tr>\n",
       "  </tbody>\n",
       "</table>\n",
       "</div>"
      ],
      "text/plain": [
       "   foo_id\n",
       "0       1\n",
       "1       2\n",
       "2       3\n",
       "3       4\n",
       "4       5"
      ]
     },
     "execution_count": 2,
     "metadata": {},
     "output_type": "execute_result"
    }
   ],
   "source": [
    "df = pd.DataFrame({\"foo_id\": [1, 2, 3, 4, 5]})\n",
    "df"
   ]
  },
  {
   "cell_type": "code",
   "execution_count": 16,
   "metadata": {},
   "outputs": [],
   "source": [
    "import csv\n",
    "from io import StringIO\n",
    "import pandas as pd\n",
    "\n",
    "mylist = [[1], [2], [3], [4], ['a', 'b'], ['c', 'd']]\n",
    "f = StringIO()\n",
    "csv.writer(f).writerows(mylist)"
   ]
  },
  {
   "cell_type": "code",
   "execution_count": 14,
   "metadata": {},
   "outputs": [
    {
     "data": {
      "text/html": [
       "<div>\n",
       "<style scoped>\n",
       "    .dataframe tbody tr th:only-of-type {\n",
       "        vertical-align: middle;\n",
       "    }\n",
       "\n",
       "    .dataframe tbody tr th {\n",
       "        vertical-align: top;\n",
       "    }\n",
       "\n",
       "    .dataframe thead th {\n",
       "        text-align: right;\n",
       "    }\n",
       "</style>\n",
       "<table border=\"1\" class=\"dataframe\">\n",
       "  <thead>\n",
       "    <tr style=\"text-align: right;\">\n",
       "      <th></th>\n",
       "      <th>0</th>\n",
       "      <th>1</th>\n",
       "    </tr>\n",
       "  </thead>\n",
       "  <tbody>\n",
       "    <tr>\n",
       "      <th>0</th>\n",
       "      <td>a</td>\n",
       "      <td>b</td>\n",
       "    </tr>\n",
       "    <tr>\n",
       "      <th>1</th>\n",
       "      <td>c</td>\n",
       "      <td>d</td>\n",
       "    </tr>\n",
       "  </tbody>\n",
       "</table>\n",
       "</div>"
      ],
      "text/plain": [
       "   0  1\n",
       "0  a  b\n",
       "1  c  d"
      ]
     },
     "execution_count": 14,
     "metadata": {},
     "output_type": "execute_result"
    }
   ],
   "source": [
    "import pandas as pd\n",
    "\n",
    "check = pd.DataFrame([['a', 'b'], ['c', 'd']])\n",
    "check"
   ]
  },
  {
   "cell_type": "code",
   "execution_count": 20,
   "metadata": {},
   "outputs": [
    {
     "data": {
      "text/html": [
       "<div>\n",
       "<style scoped>\n",
       "    .dataframe tbody tr th:only-of-type {\n",
       "        vertical-align: middle;\n",
       "    }\n",
       "\n",
       "    .dataframe tbody tr th {\n",
       "        vertical-align: top;\n",
       "    }\n",
       "\n",
       "    .dataframe thead th {\n",
       "        text-align: right;\n",
       "    }\n",
       "</style>\n",
       "<table border=\"1\" class=\"dataframe\">\n",
       "  <thead>\n",
       "    <tr style=\"text-align: right;\">\n",
       "      <th></th>\n",
       "      <th>Subhayan</th>\n",
       "      <th>Shaayan</th>\n",
       "    </tr>\n",
       "  </thead>\n",
       "  <tbody>\n",
       "    <tr>\n",
       "      <th>0</th>\n",
       "      <td>1</td>\n",
       "      <td>10</td>\n",
       "    </tr>\n",
       "    <tr>\n",
       "      <th>1</th>\n",
       "      <td>2</td>\n",
       "      <td>20</td>\n",
       "    </tr>\n",
       "    <tr>\n",
       "      <th>2</th>\n",
       "      <td>3</td>\n",
       "      <td>30</td>\n",
       "    </tr>\n",
       "    <tr>\n",
       "      <th>3</th>\n",
       "      <td>4</td>\n",
       "      <td>40</td>\n",
       "    </tr>\n",
       "    <tr>\n",
       "      <th>4</th>\n",
       "      <td>5</td>\n",
       "      <td>50</td>\n",
       "    </tr>\n",
       "  </tbody>\n",
       "</table>\n",
       "</div>"
      ],
      "text/plain": [
       "   Subhayan  Shaayan\n",
       "0         1       10\n",
       "1         2       20\n",
       "2         3       30\n",
       "3         4       40\n",
       "4         5       50"
      ]
     },
     "execution_count": 20,
     "metadata": {},
     "output_type": "execute_result"
    }
   ],
   "source": [
    "import pandas as pd\n",
    "\n",
    "df = pd.DataFrame({\"Subhayan\": [1, 2, 3, 4, 5], \"Shaayan\": [10, 20, 30, 40, 50]})\n",
    "df"
   ]
  },
  {
   "cell_type": "code",
   "execution_count": 2,
   "metadata": {},
   "outputs": [],
   "source": [
    "import pandas as pd\n",
    "\n",
    "my_dummy_csv_data = [\n",
    "        [1],\n",
    "        [2],\n",
    "        [3],\n",
    "        [4],\n",
    "        [\"Transaction Type\", \"Payment Details\", \"Debit\", \"Credit\"],\n",
    "        [\"T\", \"Some description\", \"100\", \"0\"],\n",
    "        [\"F\", \"Some description2\", \"150\", \"20\"],\n",
    "        [\"G\", \"Some description3\", \"200\", 0],\n",
    "    ]\n",
    "\n",
    "data = pd.DataFrame(my_dummy_csv_data)\n",
    "filename = 'test.csv'\n",
    "data.to_csv(filename, sep=';')\n"
   ]
  },
  {
   "cell_type": "code",
   "execution_count": 22,
   "metadata": {},
   "outputs": [],
   "source": [
    "import pandas as pd\n",
    "import pathlib\n",
    "import csv\n",
    "\n",
    "\n",
    "my_dummy_csv_data = [\n",
    "        [1],\n",
    "        [2],\n",
    "        [3],\n",
    "        [4],\n",
    "        [\"Transaction Type\", \"Payment Details\", \"Debit\", \"Credit\", \"Value date\"],\n",
    "        [\"Debit Card Payment\", \"Some description1\", \"100.00\", \"3,300\", \"05/18/2020\"],\n",
    "        [\"Credit Transfer\", \"Some description4\", \"200\", \"2,500.89\", \"11/18/2020\"],\n",
    "        [\"Debit Card Payment\", \"Some description3\", \"110.10\", \"3,373\", \"08/23/2020\"],\n",
    "        [\"Debit Card Payment\", \"Some description2\", \"150.00\", \"3,333\", \"06/23/2020\"],\n",
    "    ]\n",
    "\n",
    "csv_file = pathlib.Path(\"test2.csv\")\n",
    "with open(csv_file, 'w') as csv_file:\n",
    "    writer = csv.writer(csv_file, delimiter=\";\")\n",
    "    for row in my_dummy_csv_data:\n",
    "        writer.writerow(row)\n",
    "\n"
   ]
  },
  {
   "cell_type": "code",
   "execution_count": 9,
   "metadata": {},
   "outputs": [
    {
     "name": "stdout",
     "output_type": "stream",
     "text": [
      "<class 'pandas.core.frame.DataFrame'>\n",
      "RangeIndex: 4 entries, 0 to 3\n",
      "Data columns (total 5 columns):\n",
      " #   Column            Non-Null Count  Dtype         \n",
      "---  ------            --------------  -----         \n",
      " 0   Transaction Type  4 non-null      object        \n",
      " 1   Payment Details   4 non-null      object        \n",
      " 2   Debit             4 non-null      float64       \n",
      " 3   Credit            4 non-null      float64       \n",
      " 4   Value date        4 non-null      datetime64[ns]\n",
      "dtypes: datetime64[ns](1), float64(2), object(2)\n",
      "memory usage: 288.0+ bytes\n"
     ]
    },
    {
     "data": {
      "text/html": [
       "<div>\n",
       "<style scoped>\n",
       "    .dataframe tbody tr th:only-of-type {\n",
       "        vertical-align: middle;\n",
       "    }\n",
       "\n",
       "    .dataframe tbody tr th {\n",
       "        vertical-align: top;\n",
       "    }\n",
       "\n",
       "    .dataframe thead th {\n",
       "        text-align: right;\n",
       "    }\n",
       "</style>\n",
       "<table border=\"1\" class=\"dataframe\">\n",
       "  <thead>\n",
       "    <tr style=\"text-align: right;\">\n",
       "      <th></th>\n",
       "      <th>Transaction Type</th>\n",
       "      <th>Payment Details</th>\n",
       "      <th>Debit</th>\n",
       "      <th>Credit</th>\n",
       "      <th>Value date</th>\n",
       "    </tr>\n",
       "  </thead>\n",
       "  <tbody>\n",
       "    <tr>\n",
       "      <th>1</th>\n",
       "      <td>Credit Transfer</td>\n",
       "      <td>Some desc2</td>\n",
       "      <td>200.0</td>\n",
       "      <td>2500.89</td>\n",
       "      <td>2020-11-18</td>\n",
       "    </tr>\n",
       "  </tbody>\n",
       "</table>\n",
       "</div>"
      ],
      "text/plain": [
       "  Transaction Type Payment Details  Debit   Credit Value date\n",
       "1  Credit Transfer      Some desc2  200.0  2500.89 2020-11-18"
      ]
     },
     "execution_count": 9,
     "metadata": {},
     "output_type": "execute_result"
    }
   ],
   "source": [
    "import pandas as pd\n",
    "from datetime import datetime\n",
    "\n",
    "data = {\n",
    "    \"Transaction Type\": [\"Debit Card Payment\", \"Credit Transfer\", \"Debit Card Payment\", \"Debit Card Payment\"],\n",
    "    \"Payment Details\": [\"Some desc1\", \"Some desc2\", \"Some desc3\", \"Some desc4\"],\n",
    "    \"Debit\": [100.00, 200.00, 110.10, 150.00],\n",
    "    \"Credit\": [330, 2500.89, 337.00, 333.00],\n",
    "    \"Value date\": [\n",
    "        datetime.strptime('05/18/20', '%m/%d/%y'),\n",
    "        datetime.strptime('11/18/20', '%m/%d/%y'),\n",
    "        datetime.strptime('05/14/20', '%m/%d/%y'),\n",
    "        datetime.strptime('05/14/20', '%m/%d/%y')\n",
    "    ]\n",
    "}\n",
    "\n",
    "df = pd.DataFrame(data)\n",
    "df.info()\n",
    "cond = df[\"Credit\"] > 2500.0\n",
    "df[cond]"
   ]
  },
  {
   "cell_type": "code",
   "execution_count": 6,
   "metadata": {},
   "outputs": [
    {
     "data": {
      "text/html": [
       "<div>\n",
       "<style scoped>\n",
       "    .dataframe tbody tr th:only-of-type {\n",
       "        vertical-align: middle;\n",
       "    }\n",
       "\n",
       "    .dataframe tbody tr th {\n",
       "        vertical-align: top;\n",
       "    }\n",
       "\n",
       "    .dataframe thead th {\n",
       "        text-align: right;\n",
       "    }\n",
       "</style>\n",
       "<table border=\"1\" class=\"dataframe\">\n",
       "  <thead>\n",
       "    <tr style=\"text-align: right;\">\n",
       "      <th></th>\n",
       "      <th>Transaction Type</th>\n",
       "      <th>Payment Details</th>\n",
       "      <th>Debit</th>\n",
       "      <th>Credit</th>\n",
       "      <th>Value date</th>\n",
       "    </tr>\n",
       "  </thead>\n",
       "  <tbody>\n",
       "    <tr>\n",
       "      <th>0</th>\n",
       "      <td>T</td>\n",
       "      <td>Some description1</td>\n",
       "      <td>100.0</td>\n",
       "      <td>3300.0</td>\n",
       "      <td>2020-05-18</td>\n",
       "    </tr>\n",
       "    <tr>\n",
       "      <th>1</th>\n",
       "      <td>T</td>\n",
       "      <td>Some description2</td>\n",
       "      <td>150.0</td>\n",
       "      <td>3333.0</td>\n",
       "      <td>2020-06-23</td>\n",
       "    </tr>\n",
       "    <tr>\n",
       "      <th>2</th>\n",
       "      <td>H</td>\n",
       "      <td>Some description3</td>\n",
       "      <td>110.1</td>\n",
       "      <td>3373.0</td>\n",
       "      <td>2020-08-23</td>\n",
       "    </tr>\n",
       "  </tbody>\n",
       "</table>\n",
       "</div>"
      ],
      "text/plain": [
       "  Transaction Type    Payment Details  Debit  Credit Value date\n",
       "0                T  Some description1  100.0  3300.0 2020-05-18\n",
       "1                T  Some description2  150.0  3333.0 2020-06-23\n",
       "2                H  Some description3  110.1  3373.0 2020-08-23"
      ]
     },
     "execution_count": 6,
     "metadata": {},
     "output_type": "execute_result"
    }
   ],
   "source": [
    "import pandas as pd\n",
    "import pathlib\n",
    "\n",
    "csv_file = pathlib.Path(\"test2.csv\")\n",
    "\n",
    "columns_to_use = [\"Transaction Type\", \"Payment Details\", \"Debit\", \"Credit\", \"Value date\"]\n",
    "\n",
    "\n",
    "transactions = pd.read_csv(\n",
    "    csv_file,\n",
    "    encoding=\"latin\",\n",
    "    error_bad_lines=False,\n",
    "    skiprows=4,\n",
    "    delimiter=';',\n",
    "    usecols=columns_to_use,\n",
    "    parse_dates=[\"Value date\"],\n",
    ")\n",
    "#transactions[\"Value date\"] = pd.to_datetime(transactions[\"Value date\"], format=\"%m/%d/%Y\")\n",
    "    \n",
    "transactions.drop(transactions.tail(1).index, inplace=True)\n",
    "transactions[\"Credit\"].fillna(\"0\", inplace=True)\n",
    "transactions[\"Debit\"].fillna(0, inplace=True)\n",
    "transactions[\"Credit\"] = transactions[\"Credit\"].apply(\n",
    "    lambda value: value.replace(\",\", \"\")\n",
    ")\n",
    "transactions[\"Debit\"] = transactions[\"Debit\"].apply(\n",
    "    lambda value: value if value >= 0 else value * -1\n",
    ")\n",
    "transactions[\"Credit\"] = transactions[\"Credit\"].astype(\"float64\")\n",
    "\n",
    "transactions.head(10)\n"
   ]
  },
  {
   "cell_type": "code",
   "execution_count": 1,
   "metadata": {},
   "outputs": [
    {
     "data": {
      "image/png": "[encoded data removed]",
      "text/plain": [
       "<Figure size 432x288 with 1 Axes>"
      ]
     },
     "metadata": {
      "needs_background": "light"
     },
     "output_type": "display_data"
    }
   ],
   "source": [
    "from expense_viewer import *\n",
    "check = get_expense_report(config_file_path=\"expense_config.yaml\", salary_statement_path=\"transactions.csv\")\n",
    "#check.show_child_expense_labels()\n",
    "check.show_expense_details()\n"
   ]
  },
  {
   "cell_type": "code",
   "execution_count": 5,
   "metadata": {},
   "outputs": [
    {
     "data": {
      "text/plain": [
       "<AxesSubplot:xlabel='Months'>"
      ]
     },
     "execution_count": 5,
     "metadata": {},
     "output_type": "execute_result"
    },
    {
     "data": {
      "image/png": "[encoded data removed]",
      "text/plain": [
       "<Figure size 432x288 with 1 Axes>"
      ]
     },
     "metadata": {
      "needs_background": "light"
     },
     "output_type": "display_data"
    }
   ],
   "source": [
    "import pandas as pd\n",
    "\n",
    "df = pd.DataFrame(\n",
    "    {\n",
    "     \"Months\": [\"January\", \"February\", \"March\", \"April\"],\n",
    "     \"Expenses\": [2000, 3000, 1500, 7500],\n",
    "     \"Savings\": [3000, 2000, 2500, 1700]\n",
    "    }\n",
    ")\n",
    "df.plot.bar(x=\"Months\", y=\"Expenses\", color=\"red\")"
   ]
  },
  {
   "cell_type": "code",
   "execution_count": 2,
   "metadata": {},
   "outputs": [
    {
     "data": {
      "text/plain": [
       "array([0, 1, 2, 3])"
      ]
     },
     "execution_count": 2,
     "metadata": {},
     "output_type": "execute_result"
    }
   ],
   "source": [
    "import numpy as np\n",
    "\n",
    "names = [\"Subhayan\", \"Shaayan\", \"Rohan\", \"Dimpu\"]\n",
    "check = np.arange(len(names))\n",
    "check"
   ]
  },
  {
   "cell_type": "code",
   "execution_count": 7,
   "metadata": {},
   "outputs": [
    {
     "data": {
      "text/plain": [
       "6"
      ]
     },
     "execution_count": 7,
     "metadata": {},
     "output_type": "execute_result"
    }
   ],
   "source": [
    "import pandas as pd\n",
    "from datetime import datetime\n",
    "\n",
    "\n",
    "df = pd.DataFrame(\n",
    "    {'Value date': [\n",
    "        datetime.strptime('05/14/20', '%m/%d/%y'),\n",
    "        datetime.strptime('05/12/20', '%m/%d/%y'),\n",
    "        datetime.strptime('04/11/20', '%m/%d/%y'),\n",
    "        datetime.strptime('03/10/20', '%m/%d/%y')\n",
    "        ]\n",
    "    }\n",
    ")\n",
    "\n",
    "months = df[\"Value date\"].dt.month\n",
    "months.value_counts().idxmax()\n"
   ]
  },
  {
   "cell_type": "code",
   "execution_count": 2,
   "metadata": {},
   "outputs": [
    {
     "data": {
      "image/png": "[encoded data removed]",
      "text/plain": [
       "<Figure size 432x288 with 1 Axes>"
      ]
     },
     "metadata": {
      "needs_background": "light"
     },
     "output_type": "display_data"
    }
   ],
   "source": [
    "import numpy as np\n",
    "import matplotlib.pyplot as plt\n",
    " \n",
    "# set width of bar\n",
    "barWidth = 0.25\n",
    " \n",
    "# set height of bar\n",
    "bars1 = [12, 30, 1, 8, 22]\n",
    "bars2 = [28, 6, 16, 5, 10]\n",
    "bars3 = [29, 3, 24, 25, 17]\n",
    " \n",
    "# Set position of bar on X axis\n",
    "r1 = np.arange(len(bars1))\n",
    "r2 = [x + barWidth for x in r1]\n",
    "r3 = [x + barWidth for x in r2]\n",
    " \n",
    "# Make the plot\n",
    "plt.bar(r1, bars1, color='#7f6d5f', width=barWidth, edgecolor='white', label='var1')\n",
    "plt.bar(r2, bars2, color='#557f2d', width=barWidth, edgecolor='white', label='var2')\n",
    "plt.bar(r3, bars3, color='#2d7f5e', width=barWidth, edgecolor='white', label='var3')\n",
    " \n",
    "# Add xticks on the middle of the group bars\n",
    "plt.xlabel('group', fontweight='bold')\n",
    "plt.xticks([r + barWidth for r in range(len(bars1))], ['A', 'B', 'C', 'D', 'E'])\n",
    " \n",
    "# Create legend & Show graphic\n",
    "plt.legend()\n",
    "plt.show()"
   ]
  },
  {
   "cell_type": "code",
   "execution_count": 22,
   "metadata": {},
   "outputs": [
    {
     "data": {
      "text/plain": [
       "-409.9"
      ]
     },
     "execution_count": 22,
     "metadata": {},
     "output_type": "execute_result"
    }
   ],
   "source": [
    "import pandas as pd\n",
    "import expense_viewer.expense.overall_expense as overall\n",
    "from datetime import datetime\n",
    "\n",
    "data = {\n",
    "        \"Transaction Type\": [\n",
    "            \"Debit Card Payment\",\n",
    "            \"Credit Transfer\",\n",
    "            \"Debit Card Payment\",\n",
    "            \"Debit Card Payment\",\n",
    "        ],\n",
    "        \"Payment Details\": [\"Some desc1\", \"Some desc2\", \"Some desc3\", \"Some desc4\"],\n",
    "        \"Debit\": [100.00, 200.00, 110.10, 150.00],\n",
    "        \"Credit\": [330, 2500.89, 337.00, 333.00],\n",
    "        \"Value date\": [\n",
    "            datetime.strptime(\"05/18/20\", \"%m/%d/%y\"),\n",
    "            datetime.strptime(\"11/18/20\", \"%m/%d/%y\"),\n",
    "            datetime.strptime(\"05/14/20\", \"%m/%d/%y\"),\n",
    "            datetime.strptime(\"05/14/20\", \"%m/%d/%y\"),\n",
    "        ],\n",
    "    }\n",
    "\n",
    "config = {\n",
    "        \"salary\": {\n",
    "            \"logical_operator\": \"OR\",\n",
    "            \"identifiers\": [\n",
    "                {\"value\": 2500.00, \"comparison_operator\": \">\", \"column\": \"Credit\"}\n",
    "            ],\n",
    "        },\n",
    "        \"expense_categories\": [],\n",
    "    }\n",
    "\n",
    "data = pd.DataFrame(data)\n",
    "\n",
    "obj = overall.OverallExpense(\n",
    "        expenses=data, config=config\n",
    "    )\n",
    "obj.add_child_expenses()\n",
    "child = obj.child_expenses[0].expense\n",
    "#obj.child_expenses[0].label\n",
    "\n",
    "sample = {\n",
    "        \"Transaction Type\": [\"Debit Card Payment\", \"Debit Card Payment\"],\n",
    "        \"Payment Details\": [\"Some desc3\", \"Some desc4\"],\n",
    "        \"Debit\": [110.1, 150.0],\n",
    "        \"Credit\": [337.0, 333.0],\n",
    "        \"Value date\": [\n",
    "            datetime.strptime(\"05/14/20\", \"%m/%d/%y\"),\n",
    "            datetime.strptime(\"05/14/20\", \"%m/%d/%y\"),\n",
    "        ],\n",
    "        \"Indexes\": [2, 3]\n",
    "    }\n",
    "\n",
    "sample_pd = pd.DataFrame(sample)\n",
    "sample_pd.set_index(\"Indexes\", inplace=True)\n",
    "\n",
    "child.equals(sample_pd)\n",
    "obj.child_expenses[0].show_total_expense_sum()"
   ]
  },
  {
   "cell_type": "code",
   "execution_count": 17,
   "metadata": {},
   "outputs": [
    {
     "data": {
      "text/html": [
       "<div>\n",
       "<style scoped>\n",
       "    .dataframe tbody tr th:only-of-type {\n",
       "        vertical-align: middle;\n",
       "    }\n",
       "\n",
       "    .dataframe tbody tr th {\n",
       "        vertical-align: top;\n",
       "    }\n",
       "\n",
       "    .dataframe thead th {\n",
       "        text-align: right;\n",
       "    }\n",
       "</style>\n",
       "<table border=\"1\" class=\"dataframe\">\n",
       "  <thead>\n",
       "    <tr style=\"text-align: right;\">\n",
       "      <th></th>\n",
       "      <th>Transaction Type</th>\n",
       "      <th>Payment Details</th>\n",
       "      <th>Debit</th>\n",
       "      <th>Credit</th>\n",
       "      <th>Value date</th>\n",
       "    </tr>\n",
       "  </thead>\n",
       "  <tbody>\n",
       "    <tr>\n",
       "      <th>0</th>\n",
       "      <td>Debit Card Payment</td>\n",
       "      <td>Some desc3</td>\n",
       "      <td>110.1</td>\n",
       "      <td>337.0</td>\n",
       "      <td>2020-05-14</td>\n",
       "    </tr>\n",
       "    <tr>\n",
       "      <th>1</th>\n",
       "      <td>Debit Card Payment</td>\n",
       "      <td>Some desc4</td>\n",
       "      <td>150.0</td>\n",
       "      <td>333.0</td>\n",
       "      <td>2020-05-14</td>\n",
       "    </tr>\n",
       "  </tbody>\n",
       "</table>\n",
       "</div>"
      ],
      "text/plain": [
       "     Transaction Type Payment Details  Debit  Credit Value date\n",
       "0  Debit Card Payment      Some desc3  110.1   337.0 2020-05-14\n",
       "1  Debit Card Payment      Some desc4  150.0   333.0 2020-05-14"
      ]
     },
     "execution_count": 17,
     "metadata": {},
     "output_type": "execute_result"
    }
   ],
   "source": [
    "sample_pd"
   ]
  },
  {
   "cell_type": "code",
   "execution_count": null,
   "metadata": {},
   "outputs": [],
   "source": []
  }
 ],
 "metadata": {
  "kernelspec": {
   "display_name": "expense_viewer",
   "language": "python",
   "name": "expense_viewer"
  },
  "language_info": {
   "codemirror_mode": {
    "name": "ipython",
    "version": 3
   },
   "file_extension": ".py",
   "mimetype": "text/x-python",
   "name": "python",
   "nbconvert_exporter": "python",
   "pygments_lexer": "ipython3",
   "version": "3.7.7"
  }
 },
 "nbformat": 4,
 "nbformat_minor": 4
}
