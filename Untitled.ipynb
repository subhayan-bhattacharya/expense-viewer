{
 "cells": [
  {
   "cell_type": "code",
   "execution_count": 1,
   "metadata": {},
   "outputs": [
    {
     "data": {
      "text/plain": [
       "'/Users/subhayanbhattacharya/Desktop/HobbyProjects/expense_viewer/expense_viewer/bin/python3.7'"
      ]
     },
     "execution_count": 1,
     "metadata": {},
     "output_type": "execute_result"
    }
   ],
   "source": [
    "import sys\n",
    "sys.executable"
   ]
  },
  {
   "cell_type": "code",
   "execution_count": 3,
   "metadata": {},
   "outputs": [
    {
     "name": "stdout",
     "output_type": "stream",
     "text": [
      "Bank statements\n",
      ".ipynb_checkpoints\n",
      "venv\n"
     ]
    }
   ],
   "source": [
    "import pathlib\n",
    "for file in pathlib.Path('.').glob('*'):\n",
    "    if file.is_dir():\n",
    "        print(file)"
   ]
  },
  {
   "cell_type": "code",
   "execution_count": 9,
   "metadata": {},
   "outputs": [],
   "source": [
    "import pathlib\n",
    "import pandas as pd\n",
    "\n",
    "csv_file_path = pathlib.Path('./Bank Statements')\n",
    "csv_file = next(csv_file_path.glob('*.csv'))\n",
    "\n",
    "columns_to_use = [\"Transaction Type\", \"Payment Details\", \"Debit\", \"Credit\"]\n",
    "\n",
    "if csv_file.is_file():\n",
    "    transactions = pd.read_csv(\n",
    "        csv_file,\n",
    "        encoding=\"latin\",\n",
    "        error_bad_lines=False,\n",
    "        skiprows=4,\n",
    "        delimiter=';',\n",
    "        usecols=columns_to_use\n",
    "    )\n",
    "else:\n",
    "    print(f\"Could not read file : {csv_file}\")\n",
    "    \n",
    "transactions.drop(transactions.tail(1).index,inplace=True)  # Attempt to drop the last row as it is not needed\n"
   ]
  },
  {
   "cell_type": "code",
   "execution_count": 10,
   "metadata": {},
   "outputs": [
    {
     "data": {
      "text/html": [
       "<div>\n",
       "<style scoped>\n",
       "    .dataframe tbody tr th:only-of-type {\n",
       "        vertical-align: middle;\n",
       "    }\n",
       "\n",
       "    .dataframe tbody tr th {\n",
       "        vertical-align: top;\n",
       "    }\n",
       "\n",
       "    .dataframe thead th {\n",
       "        text-align: right;\n",
       "    }\n",
       "</style>\n",
       "<table border=\"1\" class=\"dataframe\">\n",
       "  <thead>\n",
       "    <tr style=\"text-align: right;\">\n",
       "      <th></th>\n",
       "      <th>Transaction Type</th>\n",
       "      <th>Payment Details</th>\n",
       "      <th>Debit</th>\n",
       "      <th>Credit</th>\n",
       "    </tr>\n",
       "  </thead>\n",
       "  <tbody>\n",
       "    <tr>\n",
       "      <th>0</th>\n",
       "      <td>SEPA-Direct Debit</td>\n",
       "      <td>302-4681372-0149932 AMZN Mktp DE 731R541VSWAYB9IO</td>\n",
       "      <td>-14.90</td>\n",
       "      <td>NaN</td>\n",
       "    </tr>\n",
       "    <tr>\n",
       "      <th>1</th>\n",
       "      <td>SEPA-Direct Debit</td>\n",
       "      <td>302-9763303-9589148 AMZN Mktp DE 4BIY0KQDGGRR3RIU</td>\n",
       "      <td>-18.98</td>\n",
       "      <td>NaN</td>\n",
       "    </tr>\n",
       "    <tr>\n",
       "      <th>2</th>\n",
       "      <td>Debit Card Payment</td>\n",
       "      <td>25043 SIMMEL SAGT DANKE//DRESDEN/DE 26-05-2020...</td>\n",
       "      <td>-15.42</td>\n",
       "      <td>NaN</td>\n",
       "    </tr>\n",
       "  </tbody>\n",
       "</table>\n",
       "</div>"
      ],
      "text/plain": [
       "     Transaction Type                                    Payment Details  \\\n",
       "0   SEPA-Direct Debit  302-4681372-0149932 AMZN Mktp DE 731R541VSWAYB9IO   \n",
       "1   SEPA-Direct Debit  302-9763303-9589148 AMZN Mktp DE 4BIY0KQDGGRR3RIU   \n",
       "2  Debit Card Payment  25043 SIMMEL SAGT DANKE//DRESDEN/DE 26-05-2020...   \n",
       "\n",
       "   Debit Credit  \n",
       "0 -14.90    NaN  \n",
       "1 -18.98    NaN  \n",
       "2 -15.42    NaN  "
      ]
     },
     "execution_count": 10,
     "metadata": {},
     "output_type": "execute_result"
    }
   ],
   "source": [
    "transactions.head(3)\n"
   ]
  },
  {
   "cell_type": "code",
   "execution_count": 11,
   "metadata": {},
   "outputs": [
    {
     "data": {
      "text/html": [
       "<div>\n",
       "<style scoped>\n",
       "    .dataframe tbody tr th:only-of-type {\n",
       "        vertical-align: middle;\n",
       "    }\n",
       "\n",
       "    .dataframe tbody tr th {\n",
       "        vertical-align: top;\n",
       "    }\n",
       "\n",
       "    .dataframe thead th {\n",
       "        text-align: right;\n",
       "    }\n",
       "</style>\n",
       "<table border=\"1\" class=\"dataframe\">\n",
       "  <thead>\n",
       "    <tr style=\"text-align: right;\">\n",
       "      <th></th>\n",
       "      <th>Transaction Type</th>\n",
       "      <th>Payment Details</th>\n",
       "      <th>Debit</th>\n",
       "      <th>Credit</th>\n",
       "    </tr>\n",
       "  </thead>\n",
       "  <tbody>\n",
       "    <tr>\n",
       "      <th>42</th>\n",
       "      <td>Cash Withdrawal</td>\n",
       "      <td>GA NR07106040 BLZ870700240929.06/17.47UHR DRESDEN</td>\n",
       "      <td>-170.00</td>\n",
       "      <td>NaN</td>\n",
       "    </tr>\n",
       "    <tr>\n",
       "      <th>43</th>\n",
       "      <td>Debit Card Payment</td>\n",
       "      <td>7810 DISKA DRESDEN//DRESDEN/DE 29-06-2020T19:5...</td>\n",
       "      <td>-16.23</td>\n",
       "      <td>NaN</td>\n",
       "    </tr>\n",
       "    <tr>\n",
       "      <th>44</th>\n",
       "      <td>SEPA-Direct Debit</td>\n",
       "      <td>HandyTicket Dresdner Verkehrsbetriebe</td>\n",
       "      <td>-6.70</td>\n",
       "      <td>NaN</td>\n",
       "    </tr>\n",
       "    <tr>\n",
       "      <th>45</th>\n",
       "      <td>Debit Card Payment</td>\n",
       "      <td>DVB AG GIROCARD-ZAHLUNG//DRESDEN/DE 30-06-2020...</td>\n",
       "      <td>-61.50</td>\n",
       "      <td>NaN</td>\n",
       "    </tr>\n",
       "    <tr>\n",
       "      <th>46</th>\n",
       "      <td>SEPA-Credit Transfer</td>\n",
       "      <td>A2.2 language course fees for Poulomi Adhikary</td>\n",
       "      <td>-159.00</td>\n",
       "      <td>NaN</td>\n",
       "    </tr>\n",
       "  </tbody>\n",
       "</table>\n",
       "</div>"
      ],
      "text/plain": [
       "        Transaction Type                                    Payment Details  \\\n",
       "42       Cash Withdrawal  GA NR07106040 BLZ870700240929.06/17.47UHR DRESDEN   \n",
       "43    Debit Card Payment  7810 DISKA DRESDEN//DRESDEN/DE 29-06-2020T19:5...   \n",
       "44     SEPA-Direct Debit              HandyTicket Dresdner Verkehrsbetriebe   \n",
       "45    Debit Card Payment  DVB AG GIROCARD-ZAHLUNG//DRESDEN/DE 30-06-2020...   \n",
       "46  SEPA-Credit Transfer     A2.2 language course fees for Poulomi Adhikary   \n",
       "\n",
       "     Debit Credit  \n",
       "42 -170.00    NaN  \n",
       "43  -16.23    NaN  \n",
       "44   -6.70    NaN  \n",
       "45  -61.50    NaN  \n",
       "46 -159.00    NaN  "
      ]
     },
     "execution_count": 11,
     "metadata": {},
     "output_type": "execute_result"
    }
   ],
   "source": [
    "transactions.tail()"
   ]
  },
  {
   "cell_type": "code",
   "execution_count": null,
   "metadata": {},
   "outputs": [],
   "source": []
  }
 ],
 "metadata": {
  "kernelspec": {
   "display_name": "expense_viewer",
   "language": "python",
   "name": "expense_viewer"
  },
  "language_info": {
   "codemirror_mode": {
    "name": "ipython",
    "version": 3
   },
   "file_extension": ".py",
   "mimetype": "text/x-python",
   "name": "python",
   "nbconvert_exporter": "python",
   "pygments_lexer": "ipython3",
   "version": "3.7.7"
  }
 },
 "nbformat": 4,
 "nbformat_minor": 4
}
