{
 "cells": [
  {
   "cell_type": "code",
   "execution_count": null,
   "id": "f69b0f3a-7a11-4664-8ee0-921d61c3d92f",
   "metadata": {},
   "outputs": [],
   "source": [
    "# Sample code for revolut statements\n",
    "\n",
    "import pandas as pd\n",
    "import pathlib\n",
    "import expense_viewer\n",
    "\n",
    "statement_dir = pathlib.Path(\"./Transactions/Revolut/\")\n",
    "\n",
    "config_file = pathlib.Path(\"./Revolut_bank_expense_config.yaml\")\n",
    "\n",
    "\n",
    "report = expense_viewer.get_expense_report(config_file_path=config_file, salary_statement_path=statement_dir, statement_bank=\"Revolut\")\n",
    "\n",
    "report.get_expenses_report()"
   ]
  }
 ],
 "metadata": {
  "kernelspec": {
   "display_name": "expense_viewer",
   "language": "python",
   "name": "expense_viewer"
  },
  "language_info": {
   "codemirror_mode": {
    "name": "ipython",
    "version": 3
   },
   "file_extension": ".py",
   "mimetype": "text/x-python",
   "name": "python",
   "nbconvert_exporter": "python",
   "pygments_lexer": "ipython3",
   "version": "3.9.7"
  }
 },
 "nbformat": 4,
 "nbformat_minor": 5
}
